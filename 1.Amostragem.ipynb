{
 "cells": [
  {
   "cell_type": "markdown",
   "id": "07c51e7a-2860-44ca-806f-de2a71c558e0",
   "metadata": {},
   "source": [
    "## Amostragem\n",
    "\n",
    "A amostragem é o método responsável por retirar uma parte da população, chamada da amostra, que permita tirarmos conclusões estatísticas da população, sem termos que investigar a população inteira\n",
    "\n"
   ]
  },
  {
   "cell_type": "code",
   "execution_count": 1,
   "id": "397dd748-0478-4b5b-b9bc-ab553baa8c68",
   "metadata": {},
   "outputs": [],
   "source": [
    "import pandas as pd\n",
    "import random\n",
    "import numpy as np\n",
    "import matplotlib.pyplot as plt\n",
    "import seaborn as sns"
   ]
  },
  {
   "cell_type": "code",
   "execution_count": 2,
   "id": "19032423-5455-4897-b390-41cc29df5d36",
   "metadata": {},
   "outputs": [],
   "source": [
    "df = pd.read_csv('census.csv')"
   ]
  },
  {
   "cell_type": "code",
   "execution_count": 3,
   "id": "2c21823b-54a9-40bb-864d-87d8332a517a",
   "metadata": {},
   "outputs": [
    {
     "data": {
      "text/plain": [
       "(32561, 15)"
      ]
     },
     "execution_count": 3,
     "metadata": {},
     "output_type": "execute_result"
    }
   ],
   "source": [
    "df.shape"
   ]
  },
  {
   "cell_type": "code",
   "execution_count": 4,
   "id": "7edf8eb7-d37f-43a2-8980-430b04ee5367",
   "metadata": {},
   "outputs": [
    {
     "data": {
      "text/html": [
       "<div>\n",
       "<style scoped>\n",
       "    .dataframe tbody tr th:only-of-type {\n",
       "        vertical-align: middle;\n",
       "    }\n",
       "\n",
       "    .dataframe tbody tr th {\n",
       "        vertical-align: top;\n",
       "    }\n",
       "\n",
       "    .dataframe thead th {\n",
       "        text-align: right;\n",
       "    }\n",
       "</style>\n",
       "<table border=\"1\" class=\"dataframe\">\n",
       "  <thead>\n",
       "    <tr style=\"text-align: right;\">\n",
       "      <th></th>\n",
       "      <th>age</th>\n",
       "      <th>workclass</th>\n",
       "      <th>final-weight</th>\n",
       "      <th>education</th>\n",
       "      <th>education-num</th>\n",
       "      <th>marital-status</th>\n",
       "      <th>occupation</th>\n",
       "      <th>relationship</th>\n",
       "      <th>race</th>\n",
       "      <th>sex</th>\n",
       "      <th>capital-gain</th>\n",
       "      <th>capital-loos</th>\n",
       "      <th>hour-per-week</th>\n",
       "      <th>native-country</th>\n",
       "      <th>income</th>\n",
       "    </tr>\n",
       "  </thead>\n",
       "  <tbody>\n",
       "    <tr>\n",
       "      <th>0</th>\n",
       "      <td>39</td>\n",
       "      <td>State-gov</td>\n",
       "      <td>77516</td>\n",
       "      <td>Bachelors</td>\n",
       "      <td>13</td>\n",
       "      <td>Never-married</td>\n",
       "      <td>Adm-clerical</td>\n",
       "      <td>Not-in-family</td>\n",
       "      <td>White</td>\n",
       "      <td>Male</td>\n",
       "      <td>2174</td>\n",
       "      <td>0</td>\n",
       "      <td>40</td>\n",
       "      <td>United-States</td>\n",
       "      <td>&lt;=50K</td>\n",
       "    </tr>\n",
       "    <tr>\n",
       "      <th>1</th>\n",
       "      <td>50</td>\n",
       "      <td>Self-emp-not-inc</td>\n",
       "      <td>83311</td>\n",
       "      <td>Bachelors</td>\n",
       "      <td>13</td>\n",
       "      <td>Married-civ-spouse</td>\n",
       "      <td>Exec-managerial</td>\n",
       "      <td>Husband</td>\n",
       "      <td>White</td>\n",
       "      <td>Male</td>\n",
       "      <td>0</td>\n",
       "      <td>0</td>\n",
       "      <td>13</td>\n",
       "      <td>United-States</td>\n",
       "      <td>&lt;=50K</td>\n",
       "    </tr>\n",
       "    <tr>\n",
       "      <th>2</th>\n",
       "      <td>38</td>\n",
       "      <td>Private</td>\n",
       "      <td>215646</td>\n",
       "      <td>HS-grad</td>\n",
       "      <td>9</td>\n",
       "      <td>Divorced</td>\n",
       "      <td>Handlers-cleaners</td>\n",
       "      <td>Not-in-family</td>\n",
       "      <td>White</td>\n",
       "      <td>Male</td>\n",
       "      <td>0</td>\n",
       "      <td>0</td>\n",
       "      <td>40</td>\n",
       "      <td>United-States</td>\n",
       "      <td>&lt;=50K</td>\n",
       "    </tr>\n",
       "    <tr>\n",
       "      <th>3</th>\n",
       "      <td>53</td>\n",
       "      <td>Private</td>\n",
       "      <td>234721</td>\n",
       "      <td>11th</td>\n",
       "      <td>7</td>\n",
       "      <td>Married-civ-spouse</td>\n",
       "      <td>Handlers-cleaners</td>\n",
       "      <td>Husband</td>\n",
       "      <td>Black</td>\n",
       "      <td>Male</td>\n",
       "      <td>0</td>\n",
       "      <td>0</td>\n",
       "      <td>40</td>\n",
       "      <td>United-States</td>\n",
       "      <td>&lt;=50K</td>\n",
       "    </tr>\n",
       "    <tr>\n",
       "      <th>4</th>\n",
       "      <td>28</td>\n",
       "      <td>Private</td>\n",
       "      <td>338409</td>\n",
       "      <td>Bachelors</td>\n",
       "      <td>13</td>\n",
       "      <td>Married-civ-spouse</td>\n",
       "      <td>Prof-specialty</td>\n",
       "      <td>Wife</td>\n",
       "      <td>Black</td>\n",
       "      <td>Female</td>\n",
       "      <td>0</td>\n",
       "      <td>0</td>\n",
       "      <td>40</td>\n",
       "      <td>Cuba</td>\n",
       "      <td>&lt;=50K</td>\n",
       "    </tr>\n",
       "  </tbody>\n",
       "</table>\n",
       "</div>"
      ],
      "text/plain": [
       "   age          workclass  final-weight   education  education-num  \\\n",
       "0   39          State-gov         77516   Bachelors             13   \n",
       "1   50   Self-emp-not-inc         83311   Bachelors             13   \n",
       "2   38            Private        215646     HS-grad              9   \n",
       "3   53            Private        234721        11th              7   \n",
       "4   28            Private        338409   Bachelors             13   \n",
       "\n",
       "        marital-status          occupation    relationship    race      sex  \\\n",
       "0        Never-married        Adm-clerical   Not-in-family   White     Male   \n",
       "1   Married-civ-spouse     Exec-managerial         Husband   White     Male   \n",
       "2             Divorced   Handlers-cleaners   Not-in-family   White     Male   \n",
       "3   Married-civ-spouse   Handlers-cleaners         Husband   Black     Male   \n",
       "4   Married-civ-spouse      Prof-specialty            Wife   Black   Female   \n",
       "\n",
       "   capital-gain  capital-loos  hour-per-week  native-country  income  \n",
       "0          2174             0             40   United-States   <=50K  \n",
       "1             0             0             13   United-States   <=50K  \n",
       "2             0             0             40   United-States   <=50K  \n",
       "3             0             0             40   United-States   <=50K  \n",
       "4             0             0             40            Cuba   <=50K  "
      ]
     },
     "execution_count": 4,
     "metadata": {},
     "output_type": "execute_result"
    }
   ],
   "source": [
    "df.head()"
   ]
  },
  {
   "cell_type": "markdown",
   "id": "8e4d2d05-45da-4933-9b1d-d058ebb4558d",
   "metadata": {},
   "source": [
    "### Amostragem aleatória simples\n",
    "\n",
    "A amostragem aleatória simples é quando todos os indíviduos da população tem a mesma chance de serem escolhidos aleatoriamente"
   ]
  },
  {
   "cell_type": "code",
   "execution_count": 5,
   "id": "c2b3b653-36d1-41dd-a108-9e790ea7ac5d",
   "metadata": {},
   "outputs": [],
   "source": [
    "df_amostra_aleatoria_simples = df.sample(n = 100, random_state = 1)"
   ]
  },
  {
   "cell_type": "code",
   "execution_count": 6,
   "id": "03a07b26-6bb1-4251-ad08-bd0b9ca9de46",
   "metadata": {},
   "outputs": [
    {
     "data": {
      "text/plain": [
       "(100, 15)"
      ]
     },
     "execution_count": 6,
     "metadata": {},
     "output_type": "execute_result"
    }
   ],
   "source": [
    "df_amostra_aleatoria_simples.shape"
   ]
  },
  {
   "cell_type": "code",
   "execution_count": 7,
   "id": "48b9d7c3-06ba-4348-ab24-4626eddf26ed",
   "metadata": {},
   "outputs": [
    {
     "data": {
      "text/html": [
       "<div>\n",
       "<style scoped>\n",
       "    .dataframe tbody tr th:only-of-type {\n",
       "        vertical-align: middle;\n",
       "    }\n",
       "\n",
       "    .dataframe tbody tr th {\n",
       "        vertical-align: top;\n",
       "    }\n",
       "\n",
       "    .dataframe thead th {\n",
       "        text-align: right;\n",
       "    }\n",
       "</style>\n",
       "<table border=\"1\" class=\"dataframe\">\n",
       "  <thead>\n",
       "    <tr style=\"text-align: right;\">\n",
       "      <th></th>\n",
       "      <th>age</th>\n",
       "      <th>workclass</th>\n",
       "      <th>final-weight</th>\n",
       "      <th>education</th>\n",
       "      <th>education-num</th>\n",
       "      <th>marital-status</th>\n",
       "      <th>occupation</th>\n",
       "      <th>relationship</th>\n",
       "      <th>race</th>\n",
       "      <th>sex</th>\n",
       "      <th>capital-gain</th>\n",
       "      <th>capital-loos</th>\n",
       "      <th>hour-per-week</th>\n",
       "      <th>native-country</th>\n",
       "      <th>income</th>\n",
       "    </tr>\n",
       "  </thead>\n",
       "  <tbody>\n",
       "    <tr>\n",
       "      <th>9646</th>\n",
       "      <td>62</td>\n",
       "      <td>Self-emp-not-inc</td>\n",
       "      <td>26911</td>\n",
       "      <td>7th-8th</td>\n",
       "      <td>4</td>\n",
       "      <td>Widowed</td>\n",
       "      <td>Other-service</td>\n",
       "      <td>Not-in-family</td>\n",
       "      <td>White</td>\n",
       "      <td>Female</td>\n",
       "      <td>0</td>\n",
       "      <td>0</td>\n",
       "      <td>66</td>\n",
       "      <td>United-States</td>\n",
       "      <td>&lt;=50K</td>\n",
       "    </tr>\n",
       "    <tr>\n",
       "      <th>709</th>\n",
       "      <td>18</td>\n",
       "      <td>Private</td>\n",
       "      <td>208103</td>\n",
       "      <td>11th</td>\n",
       "      <td>7</td>\n",
       "      <td>Never-married</td>\n",
       "      <td>Other-service</td>\n",
       "      <td>Other-relative</td>\n",
       "      <td>White</td>\n",
       "      <td>Male</td>\n",
       "      <td>0</td>\n",
       "      <td>0</td>\n",
       "      <td>25</td>\n",
       "      <td>United-States</td>\n",
       "      <td>&lt;=50K</td>\n",
       "    </tr>\n",
       "    <tr>\n",
       "      <th>7385</th>\n",
       "      <td>25</td>\n",
       "      <td>Private</td>\n",
       "      <td>102476</td>\n",
       "      <td>Bachelors</td>\n",
       "      <td>13</td>\n",
       "      <td>Never-married</td>\n",
       "      <td>Farming-fishing</td>\n",
       "      <td>Own-child</td>\n",
       "      <td>White</td>\n",
       "      <td>Male</td>\n",
       "      <td>27828</td>\n",
       "      <td>0</td>\n",
       "      <td>50</td>\n",
       "      <td>United-States</td>\n",
       "      <td>&gt;50K</td>\n",
       "    </tr>\n",
       "    <tr>\n",
       "      <th>16671</th>\n",
       "      <td>33</td>\n",
       "      <td>Private</td>\n",
       "      <td>511517</td>\n",
       "      <td>HS-grad</td>\n",
       "      <td>9</td>\n",
       "      <td>Married-civ-spouse</td>\n",
       "      <td>Prof-specialty</td>\n",
       "      <td>Husband</td>\n",
       "      <td>White</td>\n",
       "      <td>Male</td>\n",
       "      <td>0</td>\n",
       "      <td>0</td>\n",
       "      <td>40</td>\n",
       "      <td>United-States</td>\n",
       "      <td>&lt;=50K</td>\n",
       "    </tr>\n",
       "    <tr>\n",
       "      <th>21932</th>\n",
       "      <td>36</td>\n",
       "      <td>Private</td>\n",
       "      <td>292570</td>\n",
       "      <td>11th</td>\n",
       "      <td>7</td>\n",
       "      <td>Never-married</td>\n",
       "      <td>Machine-op-inspct</td>\n",
       "      <td>Unmarried</td>\n",
       "      <td>White</td>\n",
       "      <td>Female</td>\n",
       "      <td>0</td>\n",
       "      <td>0</td>\n",
       "      <td>40</td>\n",
       "      <td>United-States</td>\n",
       "      <td>&lt;=50K</td>\n",
       "    </tr>\n",
       "  </tbody>\n",
       "</table>\n",
       "</div>"
      ],
      "text/plain": [
       "       age          workclass  final-weight   education  education-num  \\\n",
       "9646    62   Self-emp-not-inc         26911     7th-8th              4   \n",
       "709     18            Private        208103        11th              7   \n",
       "7385    25            Private        102476   Bachelors             13   \n",
       "16671   33            Private        511517     HS-grad              9   \n",
       "21932   36            Private        292570        11th              7   \n",
       "\n",
       "            marital-status          occupation     relationship    race  \\\n",
       "9646               Widowed       Other-service    Not-in-family   White   \n",
       "709          Never-married       Other-service   Other-relative   White   \n",
       "7385         Never-married     Farming-fishing        Own-child   White   \n",
       "16671   Married-civ-spouse      Prof-specialty          Husband   White   \n",
       "21932        Never-married   Machine-op-inspct        Unmarried   White   \n",
       "\n",
       "           sex  capital-gain  capital-loos  hour-per-week  native-country  \\\n",
       "9646    Female             0             0             66   United-States   \n",
       "709       Male             0             0             25   United-States   \n",
       "7385      Male         27828             0             50   United-States   \n",
       "16671     Male             0             0             40   United-States   \n",
       "21932   Female             0             0             40   United-States   \n",
       "\n",
       "       income  \n",
       "9646    <=50K  \n",
       "709     <=50K  \n",
       "7385     >50K  \n",
       "16671   <=50K  \n",
       "21932   <=50K  "
      ]
     },
     "execution_count": 7,
     "metadata": {},
     "output_type": "execute_result"
    }
   ],
   "source": [
    "df_amostra_aleatoria_simples.head()"
   ]
  },
  {
   "cell_type": "code",
   "execution_count": 8,
   "id": "8eb344e4-fcf1-486d-bbf1-c6b87ac055b9",
   "metadata": {},
   "outputs": [],
   "source": [
    "def amostragem_aleatoria_simples(dataset, n_amostras):\n",
    "    return dataset.sample(n = n_amostras)"
   ]
  },
  {
   "cell_type": "code",
   "execution_count": 9,
   "id": "056f9c4d-bea4-4ba7-be66-9ef6c1212812",
   "metadata": {},
   "outputs": [],
   "source": [
    "df_amostra_aleatoria_simples = amostragem_aleatoria_simples(df, 100)"
   ]
  },
  {
   "cell_type": "markdown",
   "id": "cf48a482-71a8-41bc-a1c0-005ed5a979e8",
   "metadata": {},
   "source": [
    "### Amostragem sistemática\n",
    "\n",
    "A amostragem sistemática ocorre utilizando um intervalo sistemático de amostragem. Defini-se o número de amostras que desejamos. A partir disso define-se o intervalo de amostragem. Sendo assim, a cada intervalo de amostragem passado, seleciona-se um indíviduo da população"
   ]
  },
  {
   "cell_type": "code",
   "execution_count": 10,
   "id": "f0209792-31e2-49b9-b4cd-9537215d7ac6",
   "metadata": {},
   "outputs": [
    {
     "name": "stdout",
     "output_type": "stream",
     "text": [
      "325\n"
     ]
    }
   ],
   "source": [
    "n_amostras = 100 # Nº de amostras a serem retiradas do dataset\n",
    "\n",
    "intervalo_amostra = len(df) // n_amostras # Cálculo do intervalo sistemático de amostragem\n",
    "print(intervalo_amostra)"
   ]
  },
  {
   "cell_type": "code",
   "execution_count": 11,
   "id": "e08d6f24-b9a2-480a-9d71-a2e1a3cc0956",
   "metadata": {},
   "outputs": [
    {
     "data": {
      "text/plain": [
       "68"
      ]
     },
     "execution_count": 11,
     "metadata": {},
     "output_type": "execute_result"
    }
   ],
   "source": [
    "random.seed(1) # Colocando a seed para ter replicabilidade\n",
    "random.randint(0,325) # Gerando o ponto da primeira amostra"
   ]
  },
  {
   "cell_type": "code",
   "execution_count": 12,
   "id": "88571bf6-923b-4cd3-b581-6ee80620530f",
   "metadata": {},
   "outputs": [
    {
     "data": {
      "text/plain": [
       "array([   68,   393,   718,  1043,  1368,  1693,  2018,  2343,  2668,\n",
       "        2993,  3318,  3643,  3968,  4293,  4618,  4943,  5268,  5593,\n",
       "        5918,  6243,  6568,  6893,  7218,  7543,  7868,  8193,  8518,\n",
       "        8843,  9168,  9493,  9818, 10143, 10468, 10793, 11118, 11443,\n",
       "       11768, 12093, 12418, 12743, 13068, 13393, 13718, 14043, 14368,\n",
       "       14693, 15018, 15343, 15668, 15993, 16318, 16643, 16968, 17293,\n",
       "       17618, 17943, 18268, 18593, 18918, 19243, 19568, 19893, 20218,\n",
       "       20543, 20868, 21193, 21518, 21843, 22168, 22493, 22818, 23143,\n",
       "       23468, 23793, 24118, 24443, 24768, 25093, 25418, 25743, 26068,\n",
       "       26393, 26718, 27043, 27368, 27693, 28018, 28343, 28668, 28993,\n",
       "       29318, 29643, 29968, 30293, 30618, 30943, 31268, 31593, 31918,\n",
       "       32243])"
      ]
     },
     "execution_count": 12,
     "metadata": {},
     "output_type": "execute_result"
    }
   ],
   "source": [
    "np.arange(68, len(df), intervalo_amostra)"
   ]
  },
  {
   "cell_type": "code",
   "execution_count": 13,
   "id": "43dea79a-dcaa-490f-aafd-2ad5ac430e24",
   "metadata": {},
   "outputs": [],
   "source": [
    "def amostragem_sistematica(dataset, n_amostras):\n",
    "    intervalo = dataset.shape[0] // n_amostras\n",
    "    random.seed(1)\n",
    "    primeiro_ponto = random.randint(0, intervalo)\n",
    "    indices = np.arange(primeiro_ponto, dataset.shape[0], intervalo)\n",
    "    amostra_sistematica = dataset.iloc[indices]\n",
    "    return amostra_sistematica"
   ]
  },
  {
   "cell_type": "code",
   "execution_count": 14,
   "id": "d3192035-8659-453a-9ccf-bb4b93502c99",
   "metadata": {},
   "outputs": [
    {
     "data": {
      "text/html": [
       "<div>\n",
       "<style scoped>\n",
       "    .dataframe tbody tr th:only-of-type {\n",
       "        vertical-align: middle;\n",
       "    }\n",
       "\n",
       "    .dataframe tbody tr th {\n",
       "        vertical-align: top;\n",
       "    }\n",
       "\n",
       "    .dataframe thead th {\n",
       "        text-align: right;\n",
       "    }\n",
       "</style>\n",
       "<table border=\"1\" class=\"dataframe\">\n",
       "  <thead>\n",
       "    <tr style=\"text-align: right;\">\n",
       "      <th></th>\n",
       "      <th>age</th>\n",
       "      <th>workclass</th>\n",
       "      <th>final-weight</th>\n",
       "      <th>education</th>\n",
       "      <th>education-num</th>\n",
       "      <th>marital-status</th>\n",
       "      <th>occupation</th>\n",
       "      <th>relationship</th>\n",
       "      <th>race</th>\n",
       "      <th>sex</th>\n",
       "      <th>capital-gain</th>\n",
       "      <th>capital-loos</th>\n",
       "      <th>hour-per-week</th>\n",
       "      <th>native-country</th>\n",
       "      <th>income</th>\n",
       "    </tr>\n",
       "  </thead>\n",
       "  <tbody>\n",
       "    <tr>\n",
       "      <th>68</th>\n",
       "      <td>49</td>\n",
       "      <td>Self-emp-inc</td>\n",
       "      <td>191681</td>\n",
       "      <td>Some-college</td>\n",
       "      <td>10</td>\n",
       "      <td>Married-civ-spouse</td>\n",
       "      <td>Exec-managerial</td>\n",
       "      <td>Husband</td>\n",
       "      <td>White</td>\n",
       "      <td>Male</td>\n",
       "      <td>0</td>\n",
       "      <td>0</td>\n",
       "      <td>50</td>\n",
       "      <td>United-States</td>\n",
       "      <td>&gt;50K</td>\n",
       "    </tr>\n",
       "    <tr>\n",
       "      <th>393</th>\n",
       "      <td>34</td>\n",
       "      <td>State-gov</td>\n",
       "      <td>98101</td>\n",
       "      <td>Bachelors</td>\n",
       "      <td>13</td>\n",
       "      <td>Married-civ-spouse</td>\n",
       "      <td>Exec-managerial</td>\n",
       "      <td>Husband</td>\n",
       "      <td>White</td>\n",
       "      <td>Male</td>\n",
       "      <td>7688</td>\n",
       "      <td>0</td>\n",
       "      <td>45</td>\n",
       "      <td>?</td>\n",
       "      <td>&gt;50K</td>\n",
       "    </tr>\n",
       "    <tr>\n",
       "      <th>718</th>\n",
       "      <td>22</td>\n",
       "      <td>Private</td>\n",
       "      <td>214399</td>\n",
       "      <td>Some-college</td>\n",
       "      <td>10</td>\n",
       "      <td>Never-married</td>\n",
       "      <td>Sales</td>\n",
       "      <td>Own-child</td>\n",
       "      <td>White</td>\n",
       "      <td>Female</td>\n",
       "      <td>0</td>\n",
       "      <td>0</td>\n",
       "      <td>15</td>\n",
       "      <td>United-States</td>\n",
       "      <td>&lt;=50K</td>\n",
       "    </tr>\n",
       "    <tr>\n",
       "      <th>1043</th>\n",
       "      <td>44</td>\n",
       "      <td>Private</td>\n",
       "      <td>167005</td>\n",
       "      <td>Bachelors</td>\n",
       "      <td>13</td>\n",
       "      <td>Married-civ-spouse</td>\n",
       "      <td>Exec-managerial</td>\n",
       "      <td>Husband</td>\n",
       "      <td>White</td>\n",
       "      <td>Male</td>\n",
       "      <td>7688</td>\n",
       "      <td>0</td>\n",
       "      <td>60</td>\n",
       "      <td>United-States</td>\n",
       "      <td>&gt;50K</td>\n",
       "    </tr>\n",
       "    <tr>\n",
       "      <th>1368</th>\n",
       "      <td>52</td>\n",
       "      <td>Private</td>\n",
       "      <td>152234</td>\n",
       "      <td>HS-grad</td>\n",
       "      <td>9</td>\n",
       "      <td>Married-civ-spouse</td>\n",
       "      <td>Exec-managerial</td>\n",
       "      <td>Husband</td>\n",
       "      <td>Asian-Pac-Islander</td>\n",
       "      <td>Male</td>\n",
       "      <td>99999</td>\n",
       "      <td>0</td>\n",
       "      <td>40</td>\n",
       "      <td>Japan</td>\n",
       "      <td>&gt;50K</td>\n",
       "    </tr>\n",
       "  </tbody>\n",
       "</table>\n",
       "</div>"
      ],
      "text/plain": [
       "      age      workclass  final-weight      education  education-num  \\\n",
       "68     49   Self-emp-inc        191681   Some-college             10   \n",
       "393    34      State-gov         98101      Bachelors             13   \n",
       "718    22        Private        214399   Some-college             10   \n",
       "1043   44        Private        167005      Bachelors             13   \n",
       "1368   52        Private        152234        HS-grad              9   \n",
       "\n",
       "           marital-status        occupation relationship                 race  \\\n",
       "68     Married-civ-spouse   Exec-managerial      Husband                White   \n",
       "393    Married-civ-spouse   Exec-managerial      Husband                White   \n",
       "718         Never-married             Sales    Own-child                White   \n",
       "1043   Married-civ-spouse   Exec-managerial      Husband                White   \n",
       "1368   Married-civ-spouse   Exec-managerial      Husband   Asian-Pac-Islander   \n",
       "\n",
       "          sex  capital-gain  capital-loos  hour-per-week  native-country  \\\n",
       "68       Male             0             0             50   United-States   \n",
       "393      Male          7688             0             45               ?   \n",
       "718    Female             0             0             15   United-States   \n",
       "1043     Male          7688             0             60   United-States   \n",
       "1368     Male         99999             0             40           Japan   \n",
       "\n",
       "      income  \n",
       "68      >50K  \n",
       "393     >50K  \n",
       "718    <=50K  \n",
       "1043    >50K  \n",
       "1368    >50K  "
      ]
     },
     "execution_count": 14,
     "metadata": {},
     "output_type": "execute_result"
    }
   ],
   "source": [
    "df_amostra_sistematica = amostragem_sistematica(df, 100)\n",
    "df_amostra_sistematica.head()"
   ]
  },
  {
   "cell_type": "markdown",
   "id": "691c03c0-5e8e-4d68-8122-6d9023116406",
   "metadata": {},
   "source": [
    "### Amostragem por grupos\n",
    "\n",
    "A amostragem por grupos divide a população por grupos e seleciona um desses grupos, conhecido como clusters, como amostra"
   ]
  },
  {
   "cell_type": "code",
   "execution_count": 15,
   "id": "b2fcc7f2-41cc-46a9-9776-152af7b168cf",
   "metadata": {},
   "outputs": [
    {
     "data": {
      "text/plain": [
       "3256.1"
      ]
     },
     "execution_count": 15,
     "metadata": {},
     "output_type": "execute_result"
    }
   ],
   "source": [
    "n_grupos = 10\n",
    "\n",
    "df.shape[0] / n_grupos"
   ]
  },
  {
   "cell_type": "code",
   "execution_count": 16,
   "id": "28f2dfbd-c23c-4dd3-b5a8-f75f0e7fc986",
   "metadata": {},
   "outputs": [],
   "source": [
    "grupos = []\n",
    "id_grupo = 0\n",
    "contagem = 0\n",
    "\n",
    "for _ in df.iterrows():\n",
    "    grupos.append(id_grupo)\n",
    "    contagem +=1\n",
    "    if contagem > 3256:\n",
    "        contagem = 0\n",
    "        id_grupo += 1"
   ]
  },
  {
   "cell_type": "code",
   "execution_count": 17,
   "id": "d98509c8-3d80-4113-b958-ce6c4e713665",
   "metadata": {},
   "outputs": [
    {
     "data": {
      "text/plain": [
       "(array([0, 1, 2, 3, 4, 5, 6, 7, 8, 9]),\n",
       " array([3257, 3257, 3257, 3257, 3257, 3257, 3257, 3257, 3257, 3248],\n",
       "       dtype=int64))"
      ]
     },
     "execution_count": 17,
     "metadata": {},
     "output_type": "execute_result"
    }
   ],
   "source": [
    "np.unique(grupos, return_counts=True)"
   ]
  },
  {
   "cell_type": "code",
   "execution_count": 18,
   "id": "6b448109-3174-4e07-83b4-9b0aeb0d9924",
   "metadata": {},
   "outputs": [
    {
     "data": {
      "text/plain": [
       "9"
      ]
     },
     "execution_count": 18,
     "metadata": {},
     "output_type": "execute_result"
    }
   ],
   "source": [
    "random.randint(0,9)"
   ]
  },
  {
   "cell_type": "code",
   "execution_count": 19,
   "id": "a287ec8e-e1be-49c2-828c-338d24c40dd5",
   "metadata": {},
   "outputs": [],
   "source": [
    "def amostragem_agrupamento(dataset, n_grupos):\n",
    "    intervalo = dataset.shape[0] / n_grupos\n",
    "    \n",
    "    grupos = []\n",
    "    id_grupo = 0\n",
    "    contagem = 0\n",
    "    for _ in dataset.iterrows():\n",
    "        grupos.append(id_grupo)\n",
    "        contagem +=1\n",
    "        if contagem > intervalo:\n",
    "            contagem = 0\n",
    "            id_grupo += 1\n",
    "            \n",
    "    dataset['grupo'] = grupos\n",
    "    \n",
    "    random.seed(1)\n",
    "    grupo_selecionado = random.randint(0, n_grupos)\n",
    "    \n",
    "    return dataset[dataset['grupo'] == grupo_selecionado]"
   ]
  },
  {
   "cell_type": "code",
   "execution_count": 20,
   "id": "79522935-c0f5-4a22-b06b-5e0fb0f765b4",
   "metadata": {},
   "outputs": [],
   "source": [
    "df_amostra_agrupamento = amostragem_agrupamento(df, 100)"
   ]
  },
  {
   "cell_type": "markdown",
   "id": "3e43442d-b55d-4464-8c01-48e8e89c795b",
   "metadata": {},
   "source": [
    "### Amostragem estratificada\n",
    "\n",
    "A amostragem nós realizamos uma amostragem de acordo com as proporções da população. Sendo assim, a amostra mostra uma proporção de um ou mais atributos similar ao da população"
   ]
  },
  {
   "cell_type": "code",
   "execution_count": 21,
   "id": "743aa3eb-9d43-4e59-84c8-2711522991a6",
   "metadata": {},
   "outputs": [],
   "source": [
    "from sklearn.model_selection import StratifiedShuffleSplit"
   ]
  },
  {
   "cell_type": "code",
   "execution_count": 22,
   "id": "e6144ade-67db-4e47-9574-163815efe159",
   "metadata": {},
   "outputs": [
    {
     "data": {
      "text/plain": [
       " <=50K    0.75919\n",
       " >50K     0.24081\n",
       "Name: income, dtype: float64"
      ]
     },
     "execution_count": 22,
     "metadata": {},
     "output_type": "execute_result"
    }
   ],
   "source": [
    "df['income'].value_counts(normalize = True)"
   ]
  },
  {
   "cell_type": "code",
   "execution_count": 23,
   "id": "fe3e711f-7b5e-4852-aa38-74440df2a79c",
   "metadata": {},
   "outputs": [],
   "source": [
    "split = StratifiedShuffleSplit(test_size=100/df.shape[0])\n",
    "\n",
    "for x, y in split.split(df, df['income']):    \n",
    "    df_y = df.iloc[y] # Vai ser o df de amostra, com 100 elementos da base, de acordo com o parâmetro test_size\n",
    "    df_x = df.iloc[x] # Df com todos os dados da base, retirados os que foram pegos para amostra"
   ]
  },
  {
   "cell_type": "code",
   "execution_count": 24,
   "id": "6df84563-977f-4ccd-8a5f-e1618df29daf",
   "metadata": {},
   "outputs": [
    {
     "data": {
      "text/html": [
       "<div>\n",
       "<style scoped>\n",
       "    .dataframe tbody tr th:only-of-type {\n",
       "        vertical-align: middle;\n",
       "    }\n",
       "\n",
       "    .dataframe tbody tr th {\n",
       "        vertical-align: top;\n",
       "    }\n",
       "\n",
       "    .dataframe thead th {\n",
       "        text-align: right;\n",
       "    }\n",
       "</style>\n",
       "<table border=\"1\" class=\"dataframe\">\n",
       "  <thead>\n",
       "    <tr style=\"text-align: right;\">\n",
       "      <th></th>\n",
       "      <th>age</th>\n",
       "      <th>workclass</th>\n",
       "      <th>final-weight</th>\n",
       "      <th>education</th>\n",
       "      <th>education-num</th>\n",
       "      <th>marital-status</th>\n",
       "      <th>occupation</th>\n",
       "      <th>relationship</th>\n",
       "      <th>race</th>\n",
       "      <th>sex</th>\n",
       "      <th>capital-gain</th>\n",
       "      <th>capital-loos</th>\n",
       "      <th>hour-per-week</th>\n",
       "      <th>native-country</th>\n",
       "      <th>income</th>\n",
       "      <th>grupo</th>\n",
       "    </tr>\n",
       "  </thead>\n",
       "  <tbody>\n",
       "    <tr>\n",
       "      <th>25939</th>\n",
       "      <td>18</td>\n",
       "      <td>Private</td>\n",
       "      <td>184016</td>\n",
       "      <td>HS-grad</td>\n",
       "      <td>9</td>\n",
       "      <td>Married-civ-spouse</td>\n",
       "      <td>Priv-house-serv</td>\n",
       "      <td>Not-in-family</td>\n",
       "      <td>White</td>\n",
       "      <td>Female</td>\n",
       "      <td>3103</td>\n",
       "      <td>0</td>\n",
       "      <td>40</td>\n",
       "      <td>United-States</td>\n",
       "      <td>&lt;=50K</td>\n",
       "      <td>79</td>\n",
       "    </tr>\n",
       "    <tr>\n",
       "      <th>19164</th>\n",
       "      <td>42</td>\n",
       "      <td>Private</td>\n",
       "      <td>332401</td>\n",
       "      <td>Bachelors</td>\n",
       "      <td>13</td>\n",
       "      <td>Never-married</td>\n",
       "      <td>Sales</td>\n",
       "      <td>Not-in-family</td>\n",
       "      <td>White</td>\n",
       "      <td>Male</td>\n",
       "      <td>0</td>\n",
       "      <td>0</td>\n",
       "      <td>40</td>\n",
       "      <td>United-States</td>\n",
       "      <td>&lt;=50K</td>\n",
       "      <td>58</td>\n",
       "    </tr>\n",
       "    <tr>\n",
       "      <th>2246</th>\n",
       "      <td>58</td>\n",
       "      <td>Self-emp-not-inc</td>\n",
       "      <td>164065</td>\n",
       "      <td>Masters</td>\n",
       "      <td>14</td>\n",
       "      <td>Divorced</td>\n",
       "      <td>Sales</td>\n",
       "      <td>Not-in-family</td>\n",
       "      <td>White</td>\n",
       "      <td>Male</td>\n",
       "      <td>0</td>\n",
       "      <td>0</td>\n",
       "      <td>18</td>\n",
       "      <td>United-States</td>\n",
       "      <td>&lt;=50K</td>\n",
       "      <td>6</td>\n",
       "    </tr>\n",
       "    <tr>\n",
       "      <th>25617</th>\n",
       "      <td>41</td>\n",
       "      <td>Local-gov</td>\n",
       "      <td>112797</td>\n",
       "      <td>Masters</td>\n",
       "      <td>14</td>\n",
       "      <td>Divorced</td>\n",
       "      <td>Prof-specialty</td>\n",
       "      <td>Unmarried</td>\n",
       "      <td>White</td>\n",
       "      <td>Female</td>\n",
       "      <td>0</td>\n",
       "      <td>0</td>\n",
       "      <td>60</td>\n",
       "      <td>United-States</td>\n",
       "      <td>&lt;=50K</td>\n",
       "      <td>78</td>\n",
       "    </tr>\n",
       "    <tr>\n",
       "      <th>13350</th>\n",
       "      <td>32</td>\n",
       "      <td>Private</td>\n",
       "      <td>187901</td>\n",
       "      <td>Assoc-voc</td>\n",
       "      <td>11</td>\n",
       "      <td>Never-married</td>\n",
       "      <td>Exec-managerial</td>\n",
       "      <td>Not-in-family</td>\n",
       "      <td>White</td>\n",
       "      <td>Female</td>\n",
       "      <td>0</td>\n",
       "      <td>0</td>\n",
       "      <td>23</td>\n",
       "      <td>United-States</td>\n",
       "      <td>&lt;=50K</td>\n",
       "      <td>40</td>\n",
       "    </tr>\n",
       "  </tbody>\n",
       "</table>\n",
       "</div>"
      ],
      "text/plain": [
       "       age          workclass  final-weight   education  education-num  \\\n",
       "25939   18            Private        184016     HS-grad              9   \n",
       "19164   42            Private        332401   Bachelors             13   \n",
       "2246    58   Self-emp-not-inc        164065     Masters             14   \n",
       "25617   41          Local-gov        112797     Masters             14   \n",
       "13350   32            Private        187901   Assoc-voc             11   \n",
       "\n",
       "            marital-status        occupation    relationship    race      sex  \\\n",
       "25939   Married-civ-spouse   Priv-house-serv   Not-in-family   White   Female   \n",
       "19164        Never-married             Sales   Not-in-family   White     Male   \n",
       "2246              Divorced             Sales   Not-in-family   White     Male   \n",
       "25617             Divorced    Prof-specialty       Unmarried   White   Female   \n",
       "13350        Never-married   Exec-managerial   Not-in-family   White   Female   \n",
       "\n",
       "       capital-gain  capital-loos  hour-per-week  native-country  income  \\\n",
       "25939          3103             0             40   United-States   <=50K   \n",
       "19164             0             0             40   United-States   <=50K   \n",
       "2246              0             0             18   United-States   <=50K   \n",
       "25617             0             0             60   United-States   <=50K   \n",
       "13350             0             0             23   United-States   <=50K   \n",
       "\n",
       "       grupo  \n",
       "25939     79  \n",
       "19164     58  \n",
       "2246       6  \n",
       "25617     78  \n",
       "13350     40  "
      ]
     },
     "execution_count": 24,
     "metadata": {},
     "output_type": "execute_result"
    }
   ],
   "source": [
    "df_y\n",
    "df_y.head()"
   ]
  },
  {
   "cell_type": "code",
   "execution_count": 25,
   "id": "e274f6fd-922e-4175-add5-207c5bbd4658",
   "metadata": {},
   "outputs": [
    {
     "name": "stdout",
     "output_type": "stream",
     "text": [
      " <=50K    0.76\n",
      " >50K     0.24\n",
      "Name: income, dtype: float64\n",
      " <=50K    0.75919\n",
      " >50K     0.24081\n",
      "Name: income, dtype: float64\n"
     ]
    }
   ],
   "source": [
    "# Comparando a porcentagem do income da amostra estratificado com a população\n",
    "print(df_y['income'].value_counts(normalize=True))\n",
    "print(df['income'].value_counts(normalize=True))"
   ]
  },
  {
   "cell_type": "code",
   "execution_count": 26,
   "id": "1d25e781-7c93-4c00-b464-95322c8e201b",
   "metadata": {},
   "outputs": [],
   "source": [
    "def amostragem_estratificada(dataset, percentual, atributo):\n",
    "    split = StratifiedShuffleSplit(test_size=percentual, random_state=1)\n",
    "\n",
    "    for _, y in split.split(dataset, dataset[atributo]):    \n",
    "        df_y = dataset.iloc[y] # Vai ser o df de amostra, com 100 elementos da base, de acordo com o parâmetro test_size\n",
    "        \n",
    "    return df_y    "
   ]
  },
  {
   "cell_type": "code",
   "execution_count": 27,
   "id": "dbd933c3-fc71-4614-b5cc-51285608a835",
   "metadata": {},
   "outputs": [],
   "source": [
    "df_amostra_estratificada = amostragem_estratificada(df, 100/df.shape[0], 'income')"
   ]
  },
  {
   "cell_type": "markdown",
   "id": "2710fdba-def2-422a-ae8a-362fa57fc700",
   "metadata": {},
   "source": [
    "### Amostra de reservatório\n",
    "\n",
    "Utilizado em um data stream de itens com tamanho desconhecido que pode ser acessado somente uma vez. É uma amostragem que sortea um item do stream, porém, cada item deve possuir a mesma probabilidade de seleção"
   ]
  },
  {
   "cell_type": "code",
   "execution_count": 28,
   "id": "3d7ed53e-a295-41aa-9292-995292487ec3",
   "metadata": {},
   "outputs": [],
   "source": [
    "def amostragem_reservatório(dataset, n_amostras):\n",
    "    stream = list(dataset.index) # Lista para guardar o índices do dataframe  \n",
    "        \n",
    "    reservatorio = [0] * n_amostras # inicializando o reservatório\n",
    "    \n",
    "    for i in range(n_amostras):\n",
    "        reservatorio[i] = stream[i] # preenchendo o reservatório com os primeiro n_amostras itens \n",
    "        \n",
    "    i = 0\n",
    "    tamanho = dataset.shape[0]       \n",
    "    while i < tamanho:\n",
    "        j = random.randrange(i + 1) # simulando a stream\n",
    "        if j < n_amostras: # se j for menor que o n_amostras definido ocorre a troca do item no reservatório, na posição j do reservatório pelo dado no índice i do dataset\n",
    "            reservatorio[j] = stream[i] \n",
    "        i += 1\n",
    "    \n",
    "    return dataset.iloc[reservatorio]"
   ]
  },
  {
   "cell_type": "code",
   "execution_count": 29,
   "id": "67796107-bb00-4a95-b9d1-38ef7fa5bb67",
   "metadata": {},
   "outputs": [
    {
     "data": {
      "text/plain": [
       "(100, 16)"
      ]
     },
     "execution_count": 29,
     "metadata": {},
     "output_type": "execute_result"
    }
   ],
   "source": [
    "df_amostragem_reservatorio = amostragem_reservatório(df, 100)\n",
    "df_amostragem_reservatorio.shape"
   ]
  },
  {
   "cell_type": "code",
   "execution_count": 30,
   "id": "8401b270-0907-4ada-9751-2eba4f611193",
   "metadata": {},
   "outputs": [
    {
     "data": {
      "text/html": [
       "<div>\n",
       "<style scoped>\n",
       "    .dataframe tbody tr th:only-of-type {\n",
       "        vertical-align: middle;\n",
       "    }\n",
       "\n",
       "    .dataframe tbody tr th {\n",
       "        vertical-align: top;\n",
       "    }\n",
       "\n",
       "    .dataframe thead th {\n",
       "        text-align: right;\n",
       "    }\n",
       "</style>\n",
       "<table border=\"1\" class=\"dataframe\">\n",
       "  <thead>\n",
       "    <tr style=\"text-align: right;\">\n",
       "      <th></th>\n",
       "      <th>age</th>\n",
       "      <th>workclass</th>\n",
       "      <th>final-weight</th>\n",
       "      <th>education</th>\n",
       "      <th>education-num</th>\n",
       "      <th>marital-status</th>\n",
       "      <th>occupation</th>\n",
       "      <th>relationship</th>\n",
       "      <th>race</th>\n",
       "      <th>sex</th>\n",
       "      <th>capital-gain</th>\n",
       "      <th>capital-loos</th>\n",
       "      <th>hour-per-week</th>\n",
       "      <th>native-country</th>\n",
       "      <th>income</th>\n",
       "      <th>grupo</th>\n",
       "    </tr>\n",
       "  </thead>\n",
       "  <tbody>\n",
       "    <tr>\n",
       "      <th>29502</th>\n",
       "      <td>25</td>\n",
       "      <td>Local-gov</td>\n",
       "      <td>476599</td>\n",
       "      <td>Bachelors</td>\n",
       "      <td>13</td>\n",
       "      <td>Never-married</td>\n",
       "      <td>Prof-specialty</td>\n",
       "      <td>Not-in-family</td>\n",
       "      <td>White</td>\n",
       "      <td>Female</td>\n",
       "      <td>0</td>\n",
       "      <td>0</td>\n",
       "      <td>40</td>\n",
       "      <td>United-States</td>\n",
       "      <td>&lt;=50K</td>\n",
       "      <td>90</td>\n",
       "    </tr>\n",
       "    <tr>\n",
       "      <th>21610</th>\n",
       "      <td>48</td>\n",
       "      <td>Private</td>\n",
       "      <td>233511</td>\n",
       "      <td>HS-grad</td>\n",
       "      <td>9</td>\n",
       "      <td>Married-civ-spouse</td>\n",
       "      <td>Transport-moving</td>\n",
       "      <td>Husband</td>\n",
       "      <td>White</td>\n",
       "      <td>Male</td>\n",
       "      <td>0</td>\n",
       "      <td>0</td>\n",
       "      <td>50</td>\n",
       "      <td>United-States</td>\n",
       "      <td>&gt;50K</td>\n",
       "      <td>66</td>\n",
       "    </tr>\n",
       "    <tr>\n",
       "      <th>30569</th>\n",
       "      <td>75</td>\n",
       "      <td>?</td>\n",
       "      <td>114204</td>\n",
       "      <td>Some-college</td>\n",
       "      <td>10</td>\n",
       "      <td>Married-civ-spouse</td>\n",
       "      <td>?</td>\n",
       "      <td>Husband</td>\n",
       "      <td>White</td>\n",
       "      <td>Male</td>\n",
       "      <td>0</td>\n",
       "      <td>0</td>\n",
       "      <td>13</td>\n",
       "      <td>United-States</td>\n",
       "      <td>&lt;=50K</td>\n",
       "      <td>93</td>\n",
       "    </tr>\n",
       "    <tr>\n",
       "      <th>28449</th>\n",
       "      <td>61</td>\n",
       "      <td>Private</td>\n",
       "      <td>227468</td>\n",
       "      <td>HS-grad</td>\n",
       "      <td>9</td>\n",
       "      <td>Divorced</td>\n",
       "      <td>Adm-clerical</td>\n",
       "      <td>Unmarried</td>\n",
       "      <td>Black</td>\n",
       "      <td>Female</td>\n",
       "      <td>0</td>\n",
       "      <td>0</td>\n",
       "      <td>40</td>\n",
       "      <td>United-States</td>\n",
       "      <td>&lt;=50K</td>\n",
       "      <td>87</td>\n",
       "    </tr>\n",
       "    <tr>\n",
       "      <th>8704</th>\n",
       "      <td>70</td>\n",
       "      <td>Private</td>\n",
       "      <td>102610</td>\n",
       "      <td>Some-college</td>\n",
       "      <td>10</td>\n",
       "      <td>Divorced</td>\n",
       "      <td>Other-service</td>\n",
       "      <td>Not-in-family</td>\n",
       "      <td>White</td>\n",
       "      <td>Male</td>\n",
       "      <td>0</td>\n",
       "      <td>0</td>\n",
       "      <td>80</td>\n",
       "      <td>United-States</td>\n",
       "      <td>&lt;=50K</td>\n",
       "      <td>26</td>\n",
       "    </tr>\n",
       "  </tbody>\n",
       "</table>\n",
       "</div>"
      ],
      "text/plain": [
       "       age   workclass  final-weight      education  education-num  \\\n",
       "29502   25   Local-gov        476599      Bachelors             13   \n",
       "21610   48     Private        233511        HS-grad              9   \n",
       "30569   75           ?        114204   Some-college             10   \n",
       "28449   61     Private        227468        HS-grad              9   \n",
       "8704    70     Private        102610   Some-college             10   \n",
       "\n",
       "            marital-status         occupation    relationship    race  \\\n",
       "29502        Never-married     Prof-specialty   Not-in-family   White   \n",
       "21610   Married-civ-spouse   Transport-moving         Husband   White   \n",
       "30569   Married-civ-spouse                  ?         Husband   White   \n",
       "28449             Divorced       Adm-clerical       Unmarried   Black   \n",
       "8704              Divorced      Other-service   Not-in-family   White   \n",
       "\n",
       "           sex  capital-gain  capital-loos  hour-per-week  native-country  \\\n",
       "29502   Female             0             0             40   United-States   \n",
       "21610     Male             0             0             50   United-States   \n",
       "30569     Male             0             0             13   United-States   \n",
       "28449   Female             0             0             40   United-States   \n",
       "8704      Male             0             0             80   United-States   \n",
       "\n",
       "       income  grupo  \n",
       "29502   <=50K     90  \n",
       "21610    >50K     66  \n",
       "30569   <=50K     93  \n",
       "28449   <=50K     87  \n",
       "8704    <=50K     26  "
      ]
     },
     "execution_count": 30,
     "metadata": {},
     "output_type": "execute_result"
    }
   ],
   "source": [
    "df_amostragem_reservatorio.head()"
   ]
  },
  {
   "cell_type": "markdown",
   "id": "e727e582-1c62-4abf-a19c-6619e34e9400",
   "metadata": {},
   "source": [
    "### Comparativo dos resultados "
   ]
  },
  {
   "cell_type": "code",
   "execution_count": 31,
   "id": "817e7193-f38b-469b-a36e-e1d43e1cdcd6",
   "metadata": {},
   "outputs": [
    {
     "data": {
      "text/plain": [
       "38.58164675532078"
      ]
     },
     "execution_count": 31,
     "metadata": {},
     "output_type": "execute_result"
    }
   ],
   "source": [
    "df['age'].mean()"
   ]
  },
  {
   "cell_type": "code",
   "execution_count": 32,
   "id": "500d1490-d6c0-4c41-acb4-32535bf4dca2",
   "metadata": {},
   "outputs": [
    {
     "data": {
      "text/plain": [
       "36.82"
      ]
     },
     "execution_count": 32,
     "metadata": {},
     "output_type": "execute_result"
    }
   ],
   "source": [
    "df_amostra_aleatoria_simples['age'].mean()"
   ]
  },
  {
   "cell_type": "code",
   "execution_count": 33,
   "id": "bbde420d-a197-4992-8b02-23c8435984b6",
   "metadata": {},
   "outputs": [
    {
     "data": {
      "text/plain": [
       "37.57"
      ]
     },
     "execution_count": 33,
     "metadata": {},
     "output_type": "execute_result"
    }
   ],
   "source": [
    "df_amostra_sistematica['age'].mean()"
   ]
  },
  {
   "cell_type": "code",
   "execution_count": 34,
   "id": "f4f89464-a6b1-4903-a21e-c34d628b92a6",
   "metadata": {},
   "outputs": [
    {
     "data": {
      "text/plain": [
       "39.23312883435583"
      ]
     },
     "execution_count": 34,
     "metadata": {},
     "output_type": "execute_result"
    }
   ],
   "source": [
    "df_amostra_agrupamento['age'].mean()"
   ]
  },
  {
   "cell_type": "code",
   "execution_count": 35,
   "id": "0f968b40-d4f0-4e2a-a276-c9bd14cb2f56",
   "metadata": {},
   "outputs": [
    {
     "data": {
      "text/plain": [
       "36.9"
      ]
     },
     "execution_count": 35,
     "metadata": {},
     "output_type": "execute_result"
    }
   ],
   "source": [
    "df_amostra_estratificada['age'].mean()"
   ]
  },
  {
   "cell_type": "code",
   "execution_count": 36,
   "id": "90dad359-2636-4f5c-b960-84d1cdd06e19",
   "metadata": {},
   "outputs": [
    {
     "data": {
      "text/plain": [
       "37.59"
      ]
     },
     "execution_count": 36,
     "metadata": {},
     "output_type": "execute_result"
    }
   ],
   "source": [
    "df_amostragem_reservatorio['age'].mean()"
   ]
  },
  {
   "cell_type": "markdown",
   "id": "497cf5ac-cdb7-4ad6-8f44-6bbddf21a63f",
   "metadata": {},
   "source": [
    "### Exercício de Amostragem\n",
    "\n",
    "O objetivo deste exercício é utilizar outra base de dados para testar as amostragens e comparar os resultados\n",
    "\n",
    "* Faça o download e carregue a base de dados credit_data.csv, que possui informações sobre empréstimos (se o cliente pagará ou não pagará o empréstimo)\n",
    "* Teste cada uma das técnicas de amostragem, selecionando 1000 registros\n",
    "* Para a amostragem estratificada, utilize o atributo c#default para separar as categorias\n",
    "* No final, faça o comparativo da média utilizando os atributos age, income e loan\n"
   ]
  },
  {
   "cell_type": "code",
   "execution_count": 37,
   "id": "9310fc8d-9496-4e08-b305-b764f9bde4b7",
   "metadata": {},
   "outputs": [],
   "source": [
    "credit_data = pd.read_csv('credit_data.csv')"
   ]
  },
  {
   "cell_type": "code",
   "execution_count": 38,
   "id": "f7f11ecf-55de-4142-a642-7a13c87bf804",
   "metadata": {},
   "outputs": [
    {
     "data": {
      "text/plain": [
       "(2000, 5)"
      ]
     },
     "execution_count": 38,
     "metadata": {},
     "output_type": "execute_result"
    }
   ],
   "source": [
    "credit_data.shape"
   ]
  },
  {
   "cell_type": "code",
   "execution_count": 39,
   "id": "2b007e44-9ecf-4639-a29f-f4d0a3575095",
   "metadata": {},
   "outputs": [
    {
     "data": {
      "text/html": [
       "<div>\n",
       "<style scoped>\n",
       "    .dataframe tbody tr th:only-of-type {\n",
       "        vertical-align: middle;\n",
       "    }\n",
       "\n",
       "    .dataframe tbody tr th {\n",
       "        vertical-align: top;\n",
       "    }\n",
       "\n",
       "    .dataframe thead th {\n",
       "        text-align: right;\n",
       "    }\n",
       "</style>\n",
       "<table border=\"1\" class=\"dataframe\">\n",
       "  <thead>\n",
       "    <tr style=\"text-align: right;\">\n",
       "      <th></th>\n",
       "      <th>i#clientid</th>\n",
       "      <th>income</th>\n",
       "      <th>age</th>\n",
       "      <th>loan</th>\n",
       "      <th>c#default</th>\n",
       "    </tr>\n",
       "  </thead>\n",
       "  <tbody>\n",
       "    <tr>\n",
       "      <th>0</th>\n",
       "      <td>1</td>\n",
       "      <td>66155.925095</td>\n",
       "      <td>59.017015</td>\n",
       "      <td>8106.532131</td>\n",
       "      <td>0</td>\n",
       "    </tr>\n",
       "    <tr>\n",
       "      <th>1</th>\n",
       "      <td>2</td>\n",
       "      <td>34415.153966</td>\n",
       "      <td>48.117153</td>\n",
       "      <td>6564.745018</td>\n",
       "      <td>0</td>\n",
       "    </tr>\n",
       "    <tr>\n",
       "      <th>2</th>\n",
       "      <td>3</td>\n",
       "      <td>57317.170063</td>\n",
       "      <td>63.108049</td>\n",
       "      <td>8020.953296</td>\n",
       "      <td>0</td>\n",
       "    </tr>\n",
       "    <tr>\n",
       "      <th>3</th>\n",
       "      <td>4</td>\n",
       "      <td>42709.534201</td>\n",
       "      <td>45.751972</td>\n",
       "      <td>6103.642260</td>\n",
       "      <td>0</td>\n",
       "    </tr>\n",
       "    <tr>\n",
       "      <th>4</th>\n",
       "      <td>5</td>\n",
       "      <td>66952.688845</td>\n",
       "      <td>18.584336</td>\n",
       "      <td>8770.099235</td>\n",
       "      <td>1</td>\n",
       "    </tr>\n",
       "  </tbody>\n",
       "</table>\n",
       "</div>"
      ],
      "text/plain": [
       "   i#clientid        income        age         loan  c#default\n",
       "0           1  66155.925095  59.017015  8106.532131          0\n",
       "1           2  34415.153966  48.117153  6564.745018          0\n",
       "2           3  57317.170063  63.108049  8020.953296          0\n",
       "3           4  42709.534201  45.751972  6103.642260          0\n",
       "4           5  66952.688845  18.584336  8770.099235          1"
      ]
     },
     "execution_count": 39,
     "metadata": {},
     "output_type": "execute_result"
    }
   ],
   "source": [
    "credit_data.head()"
   ]
  },
  {
   "cell_type": "code",
   "execution_count": 40,
   "id": "dc1f437e-a20e-4d4f-af83-1ffcd530618a",
   "metadata": {},
   "outputs": [],
   "source": [
    "credit_data_am_simples = amostragem_aleatoria_simples(credit_data, 1000)\n",
    "credit_data_am_sistematica = amostragem_sistematica(credit_data, 1000)\n",
    "credit_data_am_grupos = amostragem_agrupamento(credit_data, round(credit_data.shape[0]/1000))\n",
    "credit_data_am_estratificada = amostragem_estratificada(credit_data, 1000/credit_data.shape[0], 'c#default')\n",
    "credit_data_am_reservatório = amostragem_reservatório(credit_data, 1000)"
   ]
  },
  {
   "cell_type": "code",
   "execution_count": 41,
   "id": "e90aff31-1c40-404d-8dd4-e7e55f6dce93",
   "metadata": {},
   "outputs": [],
   "source": [
    "all_datasets = [credit_data, credit_data_am_simples, credit_data_am_sistematica, credit_data_am_grupos, credit_data_am_estratificada, credit_data_am_reservatório]\n",
    "nomes = ['População', 'Amostragem Aleatória Simples', 'Amostragem sistemática','Amostragem por grupos', 'Amostragem estratificada', 'Amostra de reservatório']"
   ]
  },
  {
   "cell_type": "code",
   "execution_count": 42,
   "id": "6a98b147-a6ae-4c5e-ba79-b8ec6202956e",
   "metadata": {},
   "outputs": [
    {
     "name": "stdout",
     "output_type": "stream",
     "text": [
      "População:\n",
      "\n",
      "Média de idade: 40.80755937840458\n",
      "Média de renda: 45331.60001779333\n",
      "Média da dívida: 4444.369694688262\n",
      "\n",
      "Amostragem Aleatória Simples:\n",
      "\n",
      "Média de idade: 41.320841168814\n",
      "Média de renda: 45299.416997190594\n",
      "Média da dívida: 4324.905292791757\n",
      "\n",
      "Amostragem sistemática:\n",
      "\n",
      "Média de idade: 40.91117381141754\n",
      "Média de renda: 45691.49875066951\n",
      "Média da dívida: 4506.787976426329\n",
      "\n",
      "Amostragem por grupos:\n",
      "\n",
      "Média de idade: 41.0432231120503\n",
      "Média de renda: 44846.74925986142\n",
      "Média da dívida: 4390.1614937442055\n",
      "\n",
      "Amostragem estratificada:\n",
      "\n",
      "Média de idade: 40.53363707173919\n",
      "Média de renda: 45101.36675026739\n",
      "Média da dívida: 4423.744651094196\n",
      "\n",
      "Amostra de reservatório:\n",
      "\n",
      "Média de idade: 41.25489485508821\n",
      "Média de renda: 45000.68883746865\n",
      "Média da dívida: 4443.476973794102\n",
      "\n"
     ]
    }
   ],
   "source": [
    "for df, i in zip(all_datasets, nomes):    \n",
    "    idade = df['age'].mean()\n",
    "    renda = df['income'].mean()\n",
    "    divida = df['loan'].mean()\n",
    "    print(f'{i}:\\n\\nMédia de idade: {idade}\\nMédia de renda: {renda}\\nMédia da dívida: {divida}\\n' )"
   ]
  },
  {
   "cell_type": "markdown",
   "id": "59344ab3-b8f5-4d4c-8913-ea3b167aec4f",
   "metadata": {},
   "source": [
    "## Classificação com dados desbalanceados\n",
    "\n",
    "### Naïve Bayes\n",
    "\n",
    "O foco desse estudo não é a classificação, mas vamos utilizar algoritmos de classificação. Esses algoritmos conseguem classificar novos pontos de dados a partir das informações de um dataset histórico. Vamos ver como as técnicas de subamostragem e sobreamostragem impactam na qualidade dessa previsão"
   ]
  },
  {
   "cell_type": "code",
   "execution_count": 43,
   "id": "c1964822-cf3a-43e4-a091-6edc8fbdbcf9",
   "metadata": {},
   "outputs": [
    {
     "name": "stdout",
     "output_type": "stream",
     "text": [
      "<class 'pandas.core.frame.DataFrame'>\n",
      "RangeIndex: 2000 entries, 0 to 1999\n",
      "Data columns (total 6 columns):\n",
      " #   Column      Non-Null Count  Dtype  \n",
      "---  ------      --------------  -----  \n",
      " 0   i#clientid  2000 non-null   int64  \n",
      " 1   income      2000 non-null   float64\n",
      " 2   age         1997 non-null   float64\n",
      " 3   loan        2000 non-null   float64\n",
      " 4   c#default   2000 non-null   int64  \n",
      " 5   grupo       2000 non-null   int64  \n",
      "dtypes: float64(3), int64(3)\n",
      "memory usage: 93.9 KB\n"
     ]
    }
   ],
   "source": [
    "credit_data.info()"
   ]
  },
  {
   "cell_type": "code",
   "execution_count": 44,
   "id": "384c6cf6-6dc8-494f-813e-f0400efa8244",
   "metadata": {},
   "outputs": [
    {
     "data": {
      "text/html": [
       "<div>\n",
       "<style scoped>\n",
       "    .dataframe tbody tr th:only-of-type {\n",
       "        vertical-align: middle;\n",
       "    }\n",
       "\n",
       "    .dataframe tbody tr th {\n",
       "        vertical-align: top;\n",
       "    }\n",
       "\n",
       "    .dataframe thead th {\n",
       "        text-align: right;\n",
       "    }\n",
       "</style>\n",
       "<table border=\"1\" class=\"dataframe\">\n",
       "  <thead>\n",
       "    <tr style=\"text-align: right;\">\n",
       "      <th></th>\n",
       "      <th>i#clientid</th>\n",
       "      <th>income</th>\n",
       "      <th>age</th>\n",
       "      <th>loan</th>\n",
       "      <th>c#default</th>\n",
       "      <th>grupo</th>\n",
       "    </tr>\n",
       "  </thead>\n",
       "  <tbody>\n",
       "    <tr>\n",
       "      <th>0</th>\n",
       "      <td>1</td>\n",
       "      <td>66155.925095</td>\n",
       "      <td>59.017015</td>\n",
       "      <td>8106.532131</td>\n",
       "      <td>0</td>\n",
       "      <td>0</td>\n",
       "    </tr>\n",
       "    <tr>\n",
       "      <th>1</th>\n",
       "      <td>2</td>\n",
       "      <td>34415.153966</td>\n",
       "      <td>48.117153</td>\n",
       "      <td>6564.745018</td>\n",
       "      <td>0</td>\n",
       "      <td>0</td>\n",
       "    </tr>\n",
       "    <tr>\n",
       "      <th>2</th>\n",
       "      <td>3</td>\n",
       "      <td>57317.170063</td>\n",
       "      <td>63.108049</td>\n",
       "      <td>8020.953296</td>\n",
       "      <td>0</td>\n",
       "      <td>0</td>\n",
       "    </tr>\n",
       "    <tr>\n",
       "      <th>3</th>\n",
       "      <td>4</td>\n",
       "      <td>42709.534201</td>\n",
       "      <td>45.751972</td>\n",
       "      <td>6103.642260</td>\n",
       "      <td>0</td>\n",
       "      <td>0</td>\n",
       "    </tr>\n",
       "    <tr>\n",
       "      <th>4</th>\n",
       "      <td>5</td>\n",
       "      <td>66952.688845</td>\n",
       "      <td>18.584336</td>\n",
       "      <td>8770.099235</td>\n",
       "      <td>1</td>\n",
       "      <td>0</td>\n",
       "    </tr>\n",
       "  </tbody>\n",
       "</table>\n",
       "</div>"
      ],
      "text/plain": [
       "   i#clientid        income        age         loan  c#default  grupo\n",
       "0           1  66155.925095  59.017015  8106.532131          0      0\n",
       "1           2  34415.153966  48.117153  6564.745018          0      0\n",
       "2           3  57317.170063  63.108049  8020.953296          0      0\n",
       "3           4  42709.534201  45.751972  6103.642260          0      0\n",
       "4           5  66952.688845  18.584336  8770.099235          1      0"
      ]
     },
     "execution_count": 44,
     "metadata": {},
     "output_type": "execute_result"
    }
   ],
   "source": [
    "credit_data.head() "
   ]
  },
  {
   "cell_type": "code",
   "execution_count": 45,
   "id": "ce093ace-d737-4357-ad6d-d3dc61c71bd8",
   "metadata": {},
   "outputs": [],
   "source": [
    "credit_data = credit_data.dropna(axis = 0) #Retirando linhas com o valor idade vazio"
   ]
  },
  {
   "cell_type": "code",
   "execution_count": 46,
   "id": "442e3f07-ae7a-49ea-8bd4-7ad1af10703e",
   "metadata": {},
   "outputs": [
    {
     "data": {
      "text/plain": [
       "(1997, 6)"
      ]
     },
     "execution_count": 46,
     "metadata": {},
     "output_type": "execute_result"
    }
   ],
   "source": [
    "credit_data.shape"
   ]
  },
  {
   "cell_type": "code",
   "execution_count": 47,
   "id": "97cbd0cf-34d4-4746-a182-23fb79d04920",
   "metadata": {},
   "outputs": [
    {
     "data": {
      "image/png": "[encoded data removed]",
      "text/plain": [
       "<Figure size 432x288 with 1 Axes>"
      ]
     },
     "metadata": {
      "needs_background": "light"
     },
     "output_type": "display_data"
    }
   ],
   "source": [
    "sns.countplot(x = 'c#default', data = credit_data);"
   ]
  },
  {
   "cell_type": "markdown",
   "id": "90479e7b-5b6f-4244-98bc-b6bac6d23ff6",
   "metadata": {},
   "source": [
    "Base de dados desbalanceado! A maioria das pessoas nessa base de dados pagam o empréstimo (Classe 0) "
   ]
  },
  {
   "cell_type": "code",
   "execution_count": 48,
   "id": "b2658c59-65a9-4dd2-9f30-ed2e46e1bb1b",
   "metadata": {},
   "outputs": [
    {
     "data": {
      "text/plain": [
       "0    0.858287\n",
       "1    0.141713\n",
       "Name: c#default, dtype: float64"
      ]
     },
     "execution_count": 48,
     "metadata": {},
     "output_type": "execute_result"
    }
   ],
   "source": [
    "credit_data['c#default'].value_counts(normalize = True)"
   ]
  },
  {
   "cell_type": "code",
   "execution_count": 49,
   "id": "d38c5a2c-1a0d-4d71-95aa-2514b57791db",
   "metadata": {},
   "outputs": [],
   "source": [
    "X = credit_data.iloc[:, 1:4]"
   ]
  },
  {
   "cell_type": "code",
   "execution_count": 50,
   "id": "80b98535-87b1-4daf-987a-7c44b2b44a16",
   "metadata": {},
   "outputs": [],
   "source": [
    "y = credit_data.iloc[:, 4].values"
   ]
  },
  {
   "cell_type": "code",
   "execution_count": 51,
   "id": "0cffd592-0114-4498-b83d-3c5230db6763",
   "metadata": {},
   "outputs": [],
   "source": [
    "from sklearn.model_selection import train_test_split"
   ]
  },
  {
   "cell_type": "code",
   "execution_count": 52,
   "id": "6335ae40-918e-4dba-a0d7-dc0f0a0d3880",
   "metadata": {},
   "outputs": [],
   "source": [
    "X_train, X_test, y_train, y_test = train_test_split(X, y, test_size=0.2, stratify=y, random_state=1)"
   ]
  },
  {
   "cell_type": "code",
   "execution_count": 53,
   "id": "77b57043-6e47-44f3-811b-0b13e1f7ee33",
   "metadata": {},
   "outputs": [
    {
     "name": "stdout",
     "output_type": "stream",
     "text": [
      "Proporção da base de dados de teste:\n",
      "0    0.8575\n",
      "1    0.1425\n",
      "dtype: float64\n",
      "\n",
      "Proporção da base de dados de treinamento:\n",
      "0    0.858485\n",
      "1    0.141515\n",
      "dtype: float64\n"
     ]
    }
   ],
   "source": [
    "print(f'Proporção da base de dados de teste:\\n{pd.Series(y_test).value_counts(normalize=True)}\\n\\nProporção da base de dados de treinamento:\\n{pd.Series(y_train).value_counts(normalize = True)}')"
   ]
  },
  {
   "cell_type": "code",
   "execution_count": 54,
   "id": "fb0ed623-a109-4848-80f2-c092ac0e3154",
   "metadata": {},
   "outputs": [],
   "source": [
    "from sklearn.naive_bayes import GaussianNB"
   ]
  },
  {
   "cell_type": "code",
   "execution_count": 55,
   "id": "207b60a5-ea00-4b5e-853f-0f455da96a32",
   "metadata": {},
   "outputs": [
    {
     "data": {
      "text/plain": [
       "GaussianNB()"
      ]
     },
     "execution_count": 55,
     "metadata": {},
     "output_type": "execute_result"
    }
   ],
   "source": [
    "classificador = GaussianNB()\n",
    "classificador.fit(X_train, y_train)"
   ]
  },
  {
   "cell_type": "code",
   "execution_count": 56,
   "id": "579f3804-228f-4391-9c47-bb871ef54ff2",
   "metadata": {},
   "outputs": [],
   "source": [
    "previsoes = classificador.predict(X_test)"
   ]
  },
  {
   "cell_type": "code",
   "execution_count": 57,
   "id": "54b6a3c8-86bb-4ea9-bcd6-62a89dda4187",
   "metadata": {},
   "outputs": [
    {
     "data": {
      "text/plain": [
       "array([0, 0, 0, 0, 0, 0, 0, 0, 0, 0, 0, 0, 0, 1, 0, 0, 0, 0, 0, 0, 0, 0,\n",
       "       0, 0, 0, 0, 0, 0, 0, 0, 0, 0, 0, 0, 0, 1, 0, 0, 0, 0, 0, 0, 0, 1,\n",
       "       0, 0, 0, 0, 0, 0, 0, 0, 0, 0, 0, 1, 0, 0, 0, 0, 0, 0, 0, 0, 0, 0,\n",
       "       0, 0, 0, 0, 0, 1, 0, 0, 0, 0, 0, 1, 1, 0, 0, 0, 1, 0, 0, 0, 1, 0,\n",
       "       0, 0, 0, 0, 0, 0, 0, 0, 0, 0, 0, 0, 0, 0, 0, 0, 0, 0, 0, 0, 0, 0,\n",
       "       0, 0, 0, 0, 0, 0, 0, 0, 0, 0, 0, 0, 0, 0, 0, 0, 1, 1, 0, 0, 0, 0,\n",
       "       0, 0, 0, 0, 0, 0, 0, 0, 0, 1, 0, 0, 1, 0, 0, 0, 0, 0, 0, 1, 0, 1,\n",
       "       0, 0, 0, 0, 0, 0, 0, 0, 0, 0, 0, 1, 0, 0, 0, 0, 0, 0, 0, 0, 0, 0,\n",
       "       0, 0, 0, 0, 0, 0, 0, 0, 0, 0, 0, 0, 0, 0, 0, 0, 0, 0, 0, 0, 0, 0,\n",
       "       0, 0, 0, 0, 0, 0, 0, 0, 0, 0, 0, 0, 1, 0, 0, 0, 0, 0, 0, 0, 1, 0,\n",
       "       0, 0, 0, 0, 0, 0, 0, 0, 0, 1, 0, 0, 0, 0, 1, 0, 0, 0, 1, 0, 0, 0,\n",
       "       0, 0, 0, 0, 0, 0, 0, 0, 0, 0, 0, 0, 0, 0, 0, 0, 1, 0, 1, 0, 0, 0,\n",
       "       0, 0, 0, 0, 0, 0, 0, 0, 0, 0, 0, 0, 0, 0, 0, 0, 0, 0, 0, 0, 0, 0,\n",
       "       0, 0, 1, 1, 0, 0, 0, 0, 0, 0, 0, 1, 0, 0, 1, 0, 0, 0, 1, 0, 0, 0,\n",
       "       0, 0, 0, 0, 0, 0, 0, 0, 0, 1, 0, 0, 0, 0, 0, 0, 0, 1, 0, 0, 1, 0,\n",
       "       0, 0, 0, 0, 0, 0, 0, 1, 0, 0, 0, 0, 0, 0, 0, 0, 0, 0, 0, 0, 1, 0,\n",
       "       0, 0, 0, 0, 0, 0, 0, 0, 0, 0, 0, 0, 0, 1, 0, 0, 0, 0, 0, 0, 0, 0,\n",
       "       0, 0, 0, 0, 0, 0, 1, 0, 0, 0, 0, 0, 1, 0, 0, 1, 0, 0, 0, 1, 0, 0,\n",
       "       0, 0, 0, 1], dtype=int64)"
      ]
     },
     "execution_count": 57,
     "metadata": {},
     "output_type": "execute_result"
    }
   ],
   "source": [
    "previsoes"
   ]
  },
  {
   "cell_type": "code",
   "execution_count": 58,
   "id": "be3c5734-563f-49e1-b304-b1f82908700c",
   "metadata": {},
   "outputs": [
    {
     "data": {
      "text/plain": [
       "array([0, 1, 0, 0, 0, 0, 0, 0, 0, 0, 1, 0, 0, 1, 0, 0, 0, 0, 0, 0, 0, 0,\n",
       "       0, 0, 0, 0, 0, 0, 0, 0, 1, 0, 0, 0, 0, 1, 0, 0, 0, 0, 0, 0, 0, 1,\n",
       "       1, 0, 0, 0, 0, 0, 0, 0, 0, 0, 0, 1, 1, 0, 0, 0, 0, 0, 0, 0, 0, 0,\n",
       "       0, 0, 0, 0, 0, 1, 0, 1, 1, 0, 0, 1, 1, 0, 0, 0, 1, 0, 0, 0, 1, 0,\n",
       "       0, 1, 0, 0, 0, 0, 0, 0, 0, 0, 0, 0, 0, 0, 0, 0, 0, 0, 0, 0, 0, 0,\n",
       "       0, 0, 0, 0, 0, 0, 0, 0, 0, 0, 0, 1, 0, 0, 0, 0, 1, 1, 0, 0, 0, 0,\n",
       "       0, 0, 0, 0, 0, 0, 0, 0, 0, 0, 0, 0, 1, 0, 0, 0, 0, 0, 0, 1, 0, 1,\n",
       "       0, 0, 0, 0, 0, 0, 0, 0, 0, 0, 0, 1, 0, 0, 0, 0, 0, 0, 0, 0, 0, 1,\n",
       "       0, 0, 0, 0, 0, 0, 0, 0, 0, 0, 0, 0, 0, 0, 0, 0, 1, 0, 0, 0, 0, 0,\n",
       "       0, 0, 0, 0, 0, 0, 0, 0, 1, 0, 0, 0, 1, 1, 0, 0, 0, 0, 0, 0, 1, 0,\n",
       "       0, 0, 0, 0, 0, 0, 0, 0, 0, 0, 0, 0, 0, 0, 1, 0, 0, 0, 1, 0, 0, 0,\n",
       "       1, 0, 0, 0, 0, 0, 0, 0, 0, 0, 0, 0, 0, 0, 0, 0, 0, 0, 1, 0, 0, 0,\n",
       "       0, 0, 0, 0, 0, 0, 0, 0, 0, 0, 0, 0, 0, 0, 0, 0, 0, 0, 1, 0, 1, 0,\n",
       "       0, 0, 1, 1, 0, 0, 1, 0, 0, 0, 0, 1, 0, 0, 1, 0, 0, 0, 0, 1, 0, 0,\n",
       "       0, 1, 0, 0, 0, 0, 0, 0, 1, 1, 0, 0, 0, 0, 0, 1, 0, 1, 0, 0, 0, 0,\n",
       "       0, 0, 1, 0, 0, 0, 0, 1, 0, 0, 0, 0, 0, 0, 0, 0, 0, 0, 0, 0, 1, 1,\n",
       "       0, 0, 0, 0, 1, 0, 0, 0, 0, 0, 0, 0, 0, 1, 0, 0, 0, 0, 0, 0, 0, 0,\n",
       "       0, 0, 0, 0, 0, 0, 1, 0, 0, 0, 0, 0, 1, 0, 0, 1, 0, 0, 0, 0, 0, 0,\n",
       "       0, 0, 0, 1], dtype=int64)"
      ]
     },
     "execution_count": 58,
     "metadata": {},
     "output_type": "execute_result"
    }
   ],
   "source": [
    "y_test"
   ]
  },
  {
   "cell_type": "code",
   "execution_count": 59,
   "id": "d8b753c2-3a2b-412c-9d9a-2e7868ec919a",
   "metadata": {},
   "outputs": [],
   "source": [
    "from sklearn.metrics import accuracy_score"
   ]
  },
  {
   "cell_type": "code",
   "execution_count": 60,
   "id": "307c009c-6f72-482b-9739-61cef848d6e3",
   "metadata": {},
   "outputs": [
    {
     "data": {
      "text/plain": [
       "0.925"
      ]
     },
     "execution_count": 60,
     "metadata": {},
     "output_type": "execute_result"
    }
   ],
   "source": [
    "accuracy_score(previsoes, y_test)"
   ]
  },
  {
   "cell_type": "code",
   "execution_count": 61,
   "id": "8c2a6f56-d1be-4acf-8ea7-5038fec48552",
   "metadata": {},
   "outputs": [],
   "source": [
    "from sklearn.metrics import confusion_matrix"
   ]
  },
  {
   "cell_type": "code",
   "execution_count": 62,
   "id": "d6d9a195-726d-4a10-a25a-18f7e85eb002",
   "metadata": {},
   "outputs": [
    {
     "data": {
      "text/plain": [
       "array([[337,  24],\n",
       "       [  6,  33]], dtype=int64)"
      ]
     },
     "execution_count": 62,
     "metadata": {},
     "output_type": "execute_result"
    }
   ],
   "source": [
    "cm = confusion_matrix(previsoes, y_test)\n",
    "cm"
   ]
  },
  {
   "cell_type": "code",
   "execution_count": 63,
   "id": "3f83e53b-a2a9-4b2d-8806-dfbb7e007ba6",
   "metadata": {},
   "outputs": [
    {
     "data": {
      "image/png": "[encoded data removed]",
      "text/plain": [
       "<Figure size 864x432 with 2 Axes>"
      ]
     },
     "metadata": {
      "needs_background": "light"
     },
     "output_type": "display_data"
    }
   ],
   "source": [
    "plt.figure(figsize=(12,6))\n",
    "sns.heatmap(cm, annot = True, fmt = '.0f');"
   ]
  },
  {
   "cell_type": "code",
   "execution_count": 64,
   "id": "6cb03731-c3e9-40ff-a3c6-be9973447fad",
   "metadata": {},
   "outputs": [
    {
     "data": {
      "text/plain": [
       "0.8461538461538461"
      ]
     },
     "execution_count": 64,
     "metadata": {},
     "output_type": "execute_result"
    }
   ],
   "source": [
    "from sklearn.metrics import precision_score\n",
    "precision_score(y_test, previsoes) # Percentual de acerto para pessoas que não pagam o empréstimo"
   ]
  },
  {
   "cell_type": "markdown",
   "id": "861c5028-6e13-496f-a8f4-311ccc5da88a",
   "metadata": {},
   "source": [
    "Por mais que o accuracy, que mede o total de acertos do modelo esteja alto, a sua precisão deixa a desejar. A precisão mostra o percentual de acerto para pessoas que não pagam o empréstimo, sendo assim uma métrica mais adequada para a avaliação do modelo. Além disso, o accuracy alto se deve em parte pela base de dados desbalanceada. Vamos ver como a subamostragem a sobreamostragem podem mudar isso"
   ]
  },
  {
   "cell_type": "markdown",
   "id": "a099d7ff-8750-47f9-9a71-3b1ee717c483",
   "metadata": {},
   "source": [
    "### Subamostragem\n",
    "\n",
    "Com a subamostragem selecionamos itens da classe majoritária, diminuindo a quantidade de registros da classe majoritária, de forma a se aproximar da classe minoritária."
   ]
  },
  {
   "cell_type": "code",
   "execution_count": 65,
   "id": "1164589a-e1f6-404c-81f4-0fb0e4a51035",
   "metadata": {},
   "outputs": [],
   "source": [
    "from imblearn.under_sampling import TomekLinks"
   ]
  },
  {
   "cell_type": "code",
   "execution_count": 66,
   "id": "33779910-34c4-4e20-89a5-92d7025b2468",
   "metadata": {},
   "outputs": [],
   "source": [
    "tl = TomekLinks(sampling_strategy= 'majority')\n",
    "X_under, y_under = tl.fit_resample(X, y)"
   ]
  },
  {
   "cell_type": "code",
   "execution_count": 67,
   "id": "2367e4eb-f8e8-4251-8f2f-f21cd92bc332",
   "metadata": {},
   "outputs": [
    {
     "data": {
      "text/plain": [
       "((1897, 3), (1897,))"
      ]
     },
     "execution_count": 67,
     "metadata": {},
     "output_type": "execute_result"
    }
   ],
   "source": [
    "X_under.shape, y_under.shape"
   ]
  },
  {
   "cell_type": "code",
   "execution_count": 68,
   "id": "f74576d2-6324-4f51-918f-fab66c73171c",
   "metadata": {},
   "outputs": [
    {
     "name": "stdout",
     "output_type": "stream",
     "text": [
      "Proporção da base de dados após realizarmos Subamostragem por Tomek Links:\n",
      "0    0.858287\n",
      "1    0.141713\n",
      "dtype: float64       \n",
      "\n",
      "Proporção da base de dados antes de realizarmos a Subamostragem por Tomek Links treinamento:\n",
      "0    0.850817\n",
      "1    0.149183\n",
      "dtype: float64\n"
     ]
    }
   ],
   "source": [
    "print(f'Proporção da base de dados após realizarmos Subamostragem por Tomek Links:\\n{pd.Series(y).value_counts(normalize = True)}\\\n",
    "       \\n\\nProporção da base de dados antes de realizarmos a Subamostragem por Tomek Links treinamento:\\n{pd.Series(y_under).value_counts(normalize = True) }')"
   ]
  },
  {
   "cell_type": "code",
   "execution_count": 69,
   "id": "b9fa3c68-e8d0-4543-a73c-8278d3971cfa",
   "metadata": {},
   "outputs": [],
   "source": [
    "X_train_u, X_test_u, y_train_u, y_test_u = train_test_split(X_under, y_under, test_size=0.2, stratify=y_under, random_state=1)"
   ]
  },
  {
   "cell_type": "code",
   "execution_count": 70,
   "id": "fa66adcb-2fcd-40be-81bf-64fca9027b7c",
   "metadata": {},
   "outputs": [
    {
     "data": {
      "text/plain": [
       "0.9157894736842105"
      ]
     },
     "execution_count": 70,
     "metadata": {},
     "output_type": "execute_result"
    }
   ],
   "source": [
    "modelo_u = GaussianNB()\n",
    "modelo_u.fit(X_train_u, y_train_u)\n",
    "previsoes_u = modelo_u.predict(X_test_u)\n",
    "accuracy_score(y_test_u, previsoes_u)"
   ]
  },
  {
   "cell_type": "code",
   "execution_count": 71,
   "id": "16d4d2a3-82df-49bf-af53-c3b05caf45c8",
   "metadata": {},
   "outputs": [
    {
     "data": {
      "text/plain": [
       "array([[313,  22],\n",
       "       [ 10,  35]], dtype=int64)"
      ]
     },
     "execution_count": 71,
     "metadata": {},
     "output_type": "execute_result"
    }
   ],
   "source": [
    "cm_u = confusion_matrix(previsoes_u, y_test_u)\n",
    "cm_u"
   ]
  },
  {
   "cell_type": "code",
   "execution_count": 72,
   "id": "cf022f3f-e879-41d5-88e3-3f9ec0189093",
   "metadata": {},
   "outputs": [
    {
     "data": {
      "image/png": "[encoded data removed]",
      "text/plain": [
       "<Figure size 864x432 with 2 Axes>"
      ]
     },
     "metadata": {
      "needs_background": "light"
     },
     "output_type": "display_data"
    }
   ],
   "source": [
    "plt.figure(figsize=(12,6))\n",
    "sns.heatmap(cm_u, annot = True, fmt = '.0f');"
   ]
  },
  {
   "cell_type": "code",
   "execution_count": 73,
   "id": "e640aca2-7200-4f98-99a2-33d3cb3b9648",
   "metadata": {},
   "outputs": [
    {
     "data": {
      "text/plain": [
       "0.7777777777777778"
      ]
     },
     "execution_count": 73,
     "metadata": {},
     "output_type": "execute_result"
    }
   ],
   "source": [
    "precision_score(y_test_u, previsoes_u)"
   ]
  },
  {
   "cell_type": "markdown",
   "id": "bad81a71-a3f2-4a9c-9596-4f35b357a84b",
   "metadata": {},
   "source": [
    "### Sobreamostragem\n",
    "\n",
    "Com a sobreamostragem geramos amostras sintéticas, a partir de algoritmos, da classe minoritária de forma a aproximar a quantidade de registros a classe majoritária."
   ]
  },
  {
   "cell_type": "code",
   "execution_count": 74,
   "id": "26f1f92d-51bb-49dc-ac3c-15ee4164e4c8",
   "metadata": {},
   "outputs": [],
   "source": [
    "from imblearn.over_sampling import SMOTE"
   ]
  },
  {
   "cell_type": "code",
   "execution_count": 75,
   "id": "aa5745ef-179e-42fd-92fe-65884be94038",
   "metadata": {},
   "outputs": [],
   "source": [
    "smote = SMOTE(sampling_strategy='minority')\n",
    "X_over, y_over = smote.fit_resample(X, y)"
   ]
  },
  {
   "cell_type": "code",
   "execution_count": 76,
   "id": "94e21e22-2720-4062-819b-c56d5c02a0d7",
   "metadata": {},
   "outputs": [
    {
     "data": {
      "text/plain": [
       "(3428, 3)"
      ]
     },
     "execution_count": 76,
     "metadata": {},
     "output_type": "execute_result"
    }
   ],
   "source": [
    "X_over.shape"
   ]
  },
  {
   "cell_type": "code",
   "execution_count": 77,
   "id": "3597ff54-e034-49d5-8ed3-5f33fc8d21dc",
   "metadata": {},
   "outputs": [
    {
     "name": "stdout",
     "output_type": "stream",
     "text": [
      "Proporção da base de dados antes de realizarmos Sobreamostragem por SMOTE:\n",
      "0    1714\n",
      "1     283\n",
      "dtype: int64       \n",
      "\n",
      "Proporção da base de dados após realizarmos a Sobreamostragem por SMOTE:\n",
      "0    1714\n",
      "1    1714\n",
      "dtype: int64\n"
     ]
    }
   ],
   "source": [
    "print(f'Proporção da base de dados antes de realizarmos Sobreamostragem por SMOTE:\\n{pd.Series(y).value_counts(normalize = False)}\\\n",
    "       \\n\\nProporção da base de dados após realizarmos a Sobreamostragem por SMOTE:\\n{pd.Series(y_over).value_counts(normalize = False) }')"
   ]
  },
  {
   "cell_type": "code",
   "execution_count": 78,
   "id": "19c062d7-94e1-4414-8081-a282eb195609",
   "metadata": {},
   "outputs": [],
   "source": [
    "X_train_o, X_test_o, y_train_o, y_test_o = train_test_split(X_over, y_over, test_size=0.2, stratify=y_over, random_state=1)"
   ]
  },
  {
   "cell_type": "code",
   "execution_count": 79,
   "id": "433c613e-64dc-4d85-9c59-a857aa1ac7ad",
   "metadata": {},
   "outputs": [
    {
     "data": {
      "text/plain": [
       "0.9183673469387755"
      ]
     },
     "execution_count": 79,
     "metadata": {},
     "output_type": "execute_result"
    }
   ],
   "source": [
    "modelo_o = GaussianNB()\n",
    "modelo_o.fit(X_train_o, y_train_o)\n",
    "previsoes_o = modelo_o.predict(X_test_o)\n",
    "accuracy_score(y_test_o, previsoes_o)"
   ]
  },
  {
   "cell_type": "code",
   "execution_count": 80,
   "id": "92c96fa4-2cb1-4b25-a4d8-3a53f4614d58",
   "metadata": {},
   "outputs": [
    {
     "data": {
      "text/plain": [
       "array([[306,  19],\n",
       "       [ 37, 324]], dtype=int64)"
      ]
     },
     "execution_count": 80,
     "metadata": {},
     "output_type": "execute_result"
    }
   ],
   "source": [
    "cm_o = confusion_matrix(previsoes_o, y_test_o)\n",
    "cm_o"
   ]
  },
  {
   "cell_type": "code",
   "execution_count": 81,
   "id": "025d21be-f8a1-4162-9e67-2273cd4e6ba0",
   "metadata": {},
   "outputs": [
    {
     "data": {
      "image/png": "[encoded data removed]",
      "text/plain": [
       "<Figure size 864x432 with 2 Axes>"
      ]
     },
     "metadata": {
      "needs_background": "light"
     },
     "output_type": "display_data"
    }
   ],
   "source": [
    "plt.figure(figsize=(12,6))\n",
    "sns.heatmap(cm_u, annot = True, fmt = '.0f');"
   ]
  },
  {
   "cell_type": "code",
   "execution_count": 82,
   "id": "ca2b6026-659c-465e-aec0-55df54b9343a",
   "metadata": {},
   "outputs": [
    {
     "data": {
      "text/plain": [
       "0.8975069252077562"
      ]
     },
     "execution_count": 82,
     "metadata": {},
     "output_type": "execute_result"
    }
   ],
   "source": [
    "precision_score(y_test_o, previsoes_o)"
   ]
  },
  {
   "cell_type": "markdown",
   "id": "9a751577-e9c6-4a25-a830-18acc5738497",
   "metadata": {},
   "source": [
    "### Exercício de Subamostragem e Sobreamostragem\n",
    "\n",
    "O objetivo deste exercício é testar as técnicas de subamostragem e sobreamostragem utilizando outra base de dados\n",
    "\n",
    "* Carregue a base de dados csv_result-ebay_confianca_completo.csv, que é uma base de dados que utilizei no meu pós-doutorado para prever confiança de usuários baseado em traços de personalidade extraídos de textos\n",
    "* A classe é o atributo reputation, que pode ser reputação boa ou reputação ruim\n",
    "* Utilize o algoritmo Random Forest e faça os três testes conforme o exemplo anterior. O algoritmo Naïve Bayes não terá um bom desempenho nesta base de dados, por isso precisamos utilizar o Random Forest que é um algoritmo baseado em árvores de decisão. "
   ]
  },
  {
   "cell_type": "code",
   "execution_count": 83,
   "id": "4a469c6d-203c-4c96-871d-8770b62d1012",
   "metadata": {},
   "outputs": [],
   "source": [
    "confianca_ebay = pd.read_csv('csv_result-ebay_confianca_completo.csv')"
   ]
  },
  {
   "cell_type": "code",
   "execution_count": 84,
   "id": "a0d8b602-daaf-48be-a935-35eb4a54c7a6",
   "metadata": {},
   "outputs": [
    {
     "data": {
      "text/html": [
       "<div>\n",
       "<style scoped>\n",
       "    .dataframe tbody tr th:only-of-type {\n",
       "        vertical-align: middle;\n",
       "    }\n",
       "\n",
       "    .dataframe tbody tr th {\n",
       "        vertical-align: top;\n",
       "    }\n",
       "\n",
       "    .dataframe thead th {\n",
       "        text-align: right;\n",
       "    }\n",
       "</style>\n",
       "<table border=\"1\" class=\"dataframe\">\n",
       "  <thead>\n",
       "    <tr style=\"text-align: right;\">\n",
       "      <th></th>\n",
       "      <th>feedbacks</th>\n",
       "      <th>reviews</th>\n",
       "      <th>blacklist</th>\n",
       "      <th>mextraversion</th>\n",
       "      <th>cextraversion</th>\n",
       "      <th>sextraversion</th>\n",
       "      <th>mneuroticism</th>\n",
       "      <th>cneuroticism</th>\n",
       "      <th>sneuroticism</th>\n",
       "      <th>mconscientiousness</th>\n",
       "      <th>...</th>\n",
       "      <th>need_practicaly</th>\n",
       "      <th>need_selfexpression</th>\n",
       "      <th>need_stability</th>\n",
       "      <th>need_structure</th>\n",
       "      <th>value_conservation</th>\n",
       "      <th>value_openess</th>\n",
       "      <th>value_hedonism</th>\n",
       "      <th>value_selfenhancement</th>\n",
       "      <th>value_selftranscendence</th>\n",
       "      <th>reputation</th>\n",
       "    </tr>\n",
       "  </thead>\n",
       "  <tbody>\n",
       "    <tr>\n",
       "      <th>2</th>\n",
       "      <td>0</td>\n",
       "      <td>49</td>\n",
       "      <td>N</td>\n",
       "      <td>4.181642</td>\n",
       "      <td>0.6</td>\n",
       "      <td>1</td>\n",
       "      <td>2.777591</td>\n",
       "      <td>0.6</td>\n",
       "      <td>0</td>\n",
       "      <td>4.085460</td>\n",
       "      <td>...</td>\n",
       "      <td>0.696359</td>\n",
       "      <td>0.698786</td>\n",
       "      <td>0.756963</td>\n",
       "      <td>0.660119</td>\n",
       "      <td>0.619416</td>\n",
       "      <td>0.746372</td>\n",
       "      <td>0.640073</td>\n",
       "      <td>0.598037</td>\n",
       "      <td>0.828716</td>\n",
       "      <td>Bom</td>\n",
       "    </tr>\n",
       "    <tr>\n",
       "      <th>3</th>\n",
       "      <td>0</td>\n",
       "      <td>56</td>\n",
       "      <td>N</td>\n",
       "      <td>4.007042</td>\n",
       "      <td>0.6</td>\n",
       "      <td>0</td>\n",
       "      <td>2.698650</td>\n",
       "      <td>0.6</td>\n",
       "      <td>0</td>\n",
       "      <td>4.187338</td>\n",
       "      <td>...</td>\n",
       "      <td>0.715300</td>\n",
       "      <td>0.664572</td>\n",
       "      <td>0.728806</td>\n",
       "      <td>0.660740</td>\n",
       "      <td>0.588969</td>\n",
       "      <td>0.735915</td>\n",
       "      <td>0.644465</td>\n",
       "      <td>0.603042</td>\n",
       "      <td>0.809379</td>\n",
       "      <td>Bom</td>\n",
       "    </tr>\n",
       "    <tr>\n",
       "      <th>4</th>\n",
       "      <td>0</td>\n",
       "      <td>50</td>\n",
       "      <td>N</td>\n",
       "      <td>4.538230</td>\n",
       "      <td>0.7</td>\n",
       "      <td>1</td>\n",
       "      <td>2.298492</td>\n",
       "      <td>0.5</td>\n",
       "      <td>1</td>\n",
       "      <td>5.085833</td>\n",
       "      <td>...</td>\n",
       "      <td>0.720150</td>\n",
       "      <td>0.694678</td>\n",
       "      <td>0.669652</td>\n",
       "      <td>0.627962</td>\n",
       "      <td>0.553523</td>\n",
       "      <td>0.766618</td>\n",
       "      <td>0.655470</td>\n",
       "      <td>0.645042</td>\n",
       "      <td>0.826039</td>\n",
       "      <td>Bom</td>\n",
       "    </tr>\n",
       "    <tr>\n",
       "      <th>5</th>\n",
       "      <td>72</td>\n",
       "      <td>0</td>\n",
       "      <td>N</td>\n",
       "      <td>4.692854</td>\n",
       "      <td>0.3</td>\n",
       "      <td>0</td>\n",
       "      <td>2.987231</td>\n",
       "      <td>0.5</td>\n",
       "      <td>0</td>\n",
       "      <td>4.831320</td>\n",
       "      <td>...</td>\n",
       "      <td>0.739793</td>\n",
       "      <td>0.637027</td>\n",
       "      <td>0.697221</td>\n",
       "      <td>0.638587</td>\n",
       "      <td>0.675289</td>\n",
       "      <td>0.752234</td>\n",
       "      <td>0.679661</td>\n",
       "      <td>0.674438</td>\n",
       "      <td>0.813391</td>\n",
       "      <td>Bom</td>\n",
       "    </tr>\n",
       "    <tr>\n",
       "      <th>6</th>\n",
       "      <td>76</td>\n",
       "      <td>0</td>\n",
       "      <td>N</td>\n",
       "      <td>4.966753</td>\n",
       "      <td>0.3</td>\n",
       "      <td>0</td>\n",
       "      <td>3.048730</td>\n",
       "      <td>0.5</td>\n",
       "      <td>0</td>\n",
       "      <td>4.725294</td>\n",
       "      <td>...</td>\n",
       "      <td>0.718530</td>\n",
       "      <td>0.616852</td>\n",
       "      <td>0.692761</td>\n",
       "      <td>0.646695</td>\n",
       "      <td>0.677245</td>\n",
       "      <td>0.699785</td>\n",
       "      <td>0.648607</td>\n",
       "      <td>0.616075</td>\n",
       "      <td>0.816841</td>\n",
       "      <td>Bom</td>\n",
       "    </tr>\n",
       "  </tbody>\n",
       "</table>\n",
       "<p>5 rows × 75 columns</p>\n",
       "</div>"
      ],
      "text/plain": [
       "   feedbacks  reviews blacklist  mextraversion  cextraversion  sextraversion  \\\n",
       "2          0       49         N       4.181642            0.6              1   \n",
       "3          0       56         N       4.007042            0.6              0   \n",
       "4          0       50         N       4.538230            0.7              1   \n",
       "5         72        0         N       4.692854            0.3              0   \n",
       "6         76        0         N       4.966753            0.3              0   \n",
       "\n",
       "   mneuroticism  cneuroticism  sneuroticism  mconscientiousness  ...  \\\n",
       "2      2.777591           0.6             0            4.085460  ...   \n",
       "3      2.698650           0.6             0            4.187338  ...   \n",
       "4      2.298492           0.5             1            5.085833  ...   \n",
       "5      2.987231           0.5             0            4.831320  ...   \n",
       "6      3.048730           0.5             0            4.725294  ...   \n",
       "\n",
       "   need_practicaly  need_selfexpression  need_stability  need_structure  \\\n",
       "2         0.696359             0.698786        0.756963        0.660119   \n",
       "3         0.715300             0.664572        0.728806        0.660740   \n",
       "4         0.720150             0.694678        0.669652        0.627962   \n",
       "5         0.739793             0.637027        0.697221        0.638587   \n",
       "6         0.718530             0.616852        0.692761        0.646695   \n",
       "\n",
       "   value_conservation  value_openess  value_hedonism  value_selfenhancement  \\\n",
       "2            0.619416       0.746372        0.640073               0.598037   \n",
       "3            0.588969       0.735915        0.644465               0.603042   \n",
       "4            0.553523       0.766618        0.655470               0.645042   \n",
       "5            0.675289       0.752234        0.679661               0.674438   \n",
       "6            0.677245       0.699785        0.648607               0.616075   \n",
       "\n",
       "   value_selftranscendence  reputation  \n",
       "2                 0.828716         Bom  \n",
       "3                 0.809379         Bom  \n",
       "4                 0.826039         Bom  \n",
       "5                 0.813391         Bom  \n",
       "6                 0.816841         Bom  \n",
       "\n",
       "[5 rows x 75 columns]"
      ]
     },
     "execution_count": 84,
     "metadata": {},
     "output_type": "execute_result"
    }
   ],
   "source": [
    "confianca_ebay.head()"
   ]
  },
  {
   "cell_type": "code",
   "execution_count": 85,
   "id": "63563d19-bc6f-4829-8393-f87f0241b04b",
   "metadata": {},
   "outputs": [
    {
     "name": "stdout",
     "output_type": "stream",
     "text": [
      "<class 'pandas.core.frame.DataFrame'>\n",
      "Int64Index: 5806 entries, 2 to 5807\n",
      "Data columns (total 75 columns):\n",
      " #   Column                   Non-Null Count  Dtype  \n",
      "---  ------                   --------------  -----  \n",
      " 0   feedbacks                5806 non-null   int64  \n",
      " 1   reviews                  5806 non-null   int64  \n",
      " 2   blacklist                5806 non-null   object \n",
      " 3   mextraversion            5806 non-null   float64\n",
      " 4   cextraversion            5806 non-null   float64\n",
      " 5   sextraversion            5806 non-null   int64  \n",
      " 6   mneuroticism             5806 non-null   float64\n",
      " 7   cneuroticism             5806 non-null   float64\n",
      " 8   sneuroticism             5806 non-null   int64  \n",
      " 9   mconscientiousness       5806 non-null   float64\n",
      " 10  cconscientiousness       5806 non-null   float64\n",
      " 11  sconscientiousness       5806 non-null   int64  \n",
      " 12  magreeableness           5806 non-null   float64\n",
      " 13  cagreeableness           5806 non-null   float64\n",
      " 14  sagreeableness           5806 non-null   int64  \n",
      " 15  mopenness                5806 non-null   float64\n",
      " 16  copenness                5806 non-null   float64\n",
      " 17  sopenness                5806 non-null   int64  \n",
      " 18  agreeablenessIndico      5806 non-null   float64\n",
      " 19  conscientiousnessIndico  5806 non-null   float64\n",
      " 20  extraversionIndico       5806 non-null   float64\n",
      " 21  opennessIndico           5806 non-null   float64\n",
      " 22  openessWatson            5806 non-null   float64\n",
      " 23  conscientiousnessWatson  5806 non-null   float64\n",
      " 24  extraversionWatson       5806 non-null   float64\n",
      " 25  agreeablenessWatson      5806 non-null   float64\n",
      " 26  neuroticismWatson        5806 non-null   float64\n",
      " 27  o_adventure              5806 non-null   float64\n",
      " 28  o_artistic               5806 non-null   float64\n",
      " 29  o_emotionality           5806 non-null   float64\n",
      " 30  o_imagination            5806 non-null   float64\n",
      " 31  o_intelect               5806 non-null   float64\n",
      " 32  o_liberalism             5806 non-null   float64\n",
      " 33  c_achievement            5806 non-null   float64\n",
      " 34  c_cautiouness            5806 non-null   float64\n",
      " 35  c_dutifulness            5806 non-null   float64\n",
      " 36  c_orderliness            5806 non-null   float64\n",
      " 37  c_discipline             5806 non-null   float64\n",
      " 38  c_efficacy               5806 non-null   float64\n",
      " 39  e_activity               5806 non-null   float64\n",
      " 40  e_assertiveness          5806 non-null   float64\n",
      " 41  e_cheerfulness           5806 non-null   float64\n",
      " 42  e_excitement             5806 non-null   float64\n",
      " 43  e_friend                 5806 non-null   float64\n",
      " 44  e_gregariouness          5806 non-null   float64\n",
      " 45  a_altruism               5806 non-null   float64\n",
      " 46  a_cooperation            5806 non-null   float64\n",
      " 47  a_modesty                5806 non-null   float64\n",
      " 48  a_morality               5806 non-null   float64\n",
      " 49  a_simpathy               5806 non-null   float64\n",
      " 50  a_trust                  5806 non-null   float64\n",
      " 51  n_anger                  5806 non-null   float64\n",
      " 52  n_anxiety                5806 non-null   float64\n",
      " 53  n_depression             5806 non-null   float64\n",
      " 54  n_immoderation           5806 non-null   float64\n",
      " 55  n_selfconsciouness       5806 non-null   float64\n",
      " 56  n_vulnerability          5806 non-null   float64\n",
      " 57  need_chalenge            5806 non-null   float64\n",
      " 58  need_closeness           5806 non-null   float64\n",
      " 59  need_curiosity           5806 non-null   float64\n",
      " 60  need_excitement          5806 non-null   float64\n",
      " 61  need_harmony             5806 non-null   float64\n",
      " 62  need_ideal               5806 non-null   float64\n",
      " 63  need_liberty             5806 non-null   float64\n",
      " 64  need_love                5806 non-null   float64\n",
      " 65  need_practicaly          5806 non-null   float64\n",
      " 66  need_selfexpression      5806 non-null   float64\n",
      " 67  need_stability           5806 non-null   float64\n",
      " 68  need_structure           5806 non-null   float64\n",
      " 69  value_conservation       5806 non-null   float64\n",
      " 70  value_openess            5806 non-null   float64\n",
      " 71  value_hedonism           5806 non-null   float64\n",
      " 72  value_selfenhancement    5806 non-null   float64\n",
      " 73  value_selftranscendence  5806 non-null   float64\n",
      " 74  reputation               5806 non-null   object \n",
      "dtypes: float64(66), int64(7), object(2)\n",
      "memory usage: 3.4+ MB\n"
     ]
    }
   ],
   "source": [
    "confianca_ebay.info()"
   ]
  },
  {
   "cell_type": "code",
   "execution_count": 86,
   "id": "3291a5ca-b118-4fc9-b4e6-30023ced59ee",
   "metadata": {},
   "outputs": [
    {
     "data": {
      "text/plain": [
       "N    5022\n",
       "B     784\n",
       "Name: blacklist, dtype: int64"
      ]
     },
     "execution_count": 86,
     "metadata": {},
     "output_type": "execute_result"
    }
   ],
   "source": [
    "confianca_ebay['blacklist'].value_counts()"
   ]
  },
  {
   "cell_type": "code",
   "execution_count": 87,
   "id": "9e74e103-a8b8-4874-b255-95ab02a992e3",
   "metadata": {},
   "outputs": [],
   "source": [
    "confianca_ebay['blacklist'] = confianca_ebay['blacklist'] == 'S' #transformando a coluna categórica em strings numa coluna booleana"
   ]
  },
  {
   "cell_type": "code",
   "execution_count": 88,
   "id": "8fb5fa64-d43b-480d-855f-4c47f67d4194",
   "metadata": {},
   "outputs": [
    {
     "data": {
      "image/png": "[encoded data removed]",
      "text/plain": [
       "<Figure size 432x288 with 1 Axes>"
      ]
     },
     "metadata": {
      "needs_background": "light"
     },
     "output_type": "display_data"
    }
   ],
   "source": [
    "sns.countplot(x = 'reputation', data = confianca_ebay);"
   ]
  },
  {
   "cell_type": "code",
   "execution_count": 89,
   "id": "096c03ab-7478-4bd2-829d-f82dd790e5b9",
   "metadata": {},
   "outputs": [
    {
     "name": "stdout",
     "output_type": "stream",
     "text": [
      "(5806,)\n"
     ]
    }
   ],
   "source": [
    "y_ebay = confianca_ebay['reputation'].values\n",
    "print(y_ebay.shape)"
   ]
  },
  {
   "cell_type": "code",
   "execution_count": 90,
   "id": "9bfe349c-30c3-447b-a9cb-2c5f7976e419",
   "metadata": {},
   "outputs": [
    {
     "data": {
      "text/plain": [
       "(5806, 74)"
      ]
     },
     "execution_count": 90,
     "metadata": {},
     "output_type": "execute_result"
    }
   ],
   "source": [
    "X_ebay = confianca_ebay[[col for col in confianca_ebay.columns if col != 'reputation']]\n",
    "X_ebay.shape"
   ]
  },
  {
   "cell_type": "code",
   "execution_count": 91,
   "id": "d1e6697c-6e77-48b1-841d-0b8f7d3a84ee",
   "metadata": {},
   "outputs": [],
   "source": [
    "from sklearn.ensemble import RandomForestClassifier"
   ]
  },
  {
   "cell_type": "code",
   "execution_count": 92,
   "id": "6a7bf124-b2ee-428b-99eb-e1adffd924eb",
   "metadata": {},
   "outputs": [],
   "source": [
    "def comparador(X, y, modelo_teste):\n",
    "    X_train,X_test, y_train, y_test = train_test_split(X, y, test_size=0.2, stratify=y, random_state=1)\n",
    "    modelo = modelo_teste\n",
    "    modelo.fit(X_train, y_train)\n",
    "    previsoes = modelo.predict(X_test)\n",
    "    print('Base de dados original:')\n",
    "    print('accuracy score: ', accuracy_score(y_test, previsoes))   \n",
    "    \n",
    "    tl = TomekLinks(sampling_strategy= 'majority')\n",
    "    X_under, y_under = tl.fit_resample(X, y)\n",
    "    X_train_u, X_test_u, y_train_u, y_test_u = train_test_split(X_under, y_under, test_size=0.2, stratify=y_under, random_state=1)\n",
    "    modelo_u = modelo_teste\n",
    "    modelo_u.fit(X_train_u, y_train_u)\n",
    "    previsoes_u = modelo_u.predict(X_test_u)\n",
    "    print('\\nBase de dados com subamostragem por Tomek Links:')\n",
    "    print('accuracy score: ', accuracy_score(y_test_u, previsoes_u))\n",
    "        \n",
    "    smote = SMOTE(sampling_strategy='minority', random_state=1)\n",
    "    X_over, y_over = smote.fit_resample(X, y)\n",
    "    X_train_o, X_test_o, y_train_o, y_test_o = train_test_split(X_over, y_over, test_size=0.2, stratify=y_over, random_state=1)\n",
    "    modelo_o = modelo_teste\n",
    "    modelo_o.fit(X_train_o, y_train_o)\n",
    "    previsoes_o = modelo_o.predict(X_test_o)\n",
    "    print('\\nBase de dados com sobreamostragem por Smote:')\n",
    "    print('accuracy score: ', accuracy_score(y_test_o, previsoes_o))    "
   ]
  },
  {
   "cell_type": "code",
   "execution_count": 93,
   "id": "e9322c54-1ccd-4edb-aafa-6c130f32db26",
   "metadata": {},
   "outputs": [],
   "source": [
    "modelo = RandomForestClassifier()"
   ]
  },
  {
   "cell_type": "code",
   "execution_count": 94,
   "id": "3374e9d3-e0d9-4b60-a9c6-a2c0080f6a3e",
   "metadata": {},
   "outputs": [
    {
     "name": "stdout",
     "output_type": "stream",
     "text": [
      "Base de dados original:\n",
      "accuracy score:  0.7452667814113597\n",
      "\n",
      "Base de dados com subamostragem por Tomek Links:\n",
      "accuracy score:  0.7306273062730627\n",
      "\n",
      "Base de dados com sobreamostragem por Smote:\n",
      "accuracy score:  0.833139534883721\n"
     ]
    }
   ],
   "source": [
    "comparador(X_ebay,y_ebay, modelo)"
   ]
  }
 ],
 "metadata": {
  "kernelspec": {
   "display_name": "Python 3",
   "language": "python",
   "name": "python3"
  },
  "language_info": {
   "codemirror_mode": {
    "name": "ipython",
    "version": 3
   },
   "file_extension": ".py",
   "mimetype": "text/x-python",
   "name": "python",
   "nbconvert_exporter": "python",
   "pygments_lexer": "ipython3",
   "version": "3.7.10"
  },
  "toc-autonumbering": false,
  "toc-showmarkdowntxt": false
 },
 "nbformat": 4,
 "nbformat_minor": 5
}
